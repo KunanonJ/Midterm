{
 "cells": [
  {
   "cell_type": "markdown",
   "metadata": {
    "id": "VMjP_pZMkEzs"
   },
   "source": [
    "# Assignment 23\n",
    "Statistics for understanding the market\n",
    "\n"
   ]
  },
  {
   "cell_type": "markdown",
   "metadata": {
    "id": "0IdGmp3kkXf4"
   },
   "source": [
    "In this assignment, your goal is to find the stocks that is well suited for your investment. The list below is the step-by-step to choose the stock."
   ]
  },
  {
   "cell_type": "markdown",
   "metadata": {
    "id": "Ons3z71UklhC"
   },
   "source": [
    "1. Use Python to donwload the historical prices from Jaunary 1, 2020 to December 21, 2020 from Yahoo Finance. Here, we are interested in the top 48 stocks in the market. All symbols of all 48 stocks are given in the \"set48.txt\" attached with the assignment in Google Classroom. \n"
   ]
  },
  {
   "cell_type": "code",
   "execution_count": 3,
   "metadata": {
    "id": "COSJBnIfkEBo"
   },
   "outputs": [],
   "source": [
    "# Put your code for the item 1 here\n",
    "import csv\n",
    "import pandas as pd \n",
    "import matplotlib.pyplot as plt\n",
    "import numpy as np\n",
    "import pandas_datareader as reader\n",
    "set48_file = \"/content/drive/MyDrive/set48.txt\"\n",
    "data_frames = dict()\n",
    "stocks = []\n",
    "with open(set48_file) as csv_file:\n",
    "   csv_reader = csv.reader(csv_file, delimiter=',')\n",
    "   for row in csv_reader:     \n",
    "     data_frames[row[0]] = reader.DataReader(f\"{row[0]}.BK\", \"yahoo\",\"2020-01-01\",\"2020-12-21\") \n",
    "     stocks.append(row[0])\n",
    "\n"
   ]
  },
  {
   "cell_type": "markdown",
   "metadata": {
    "id": "5fO0XBiJled6"
   },
   "source": [
    "2. Next, you want to find the top **five** stocks with the highest average return. Please add the average annualized return (RET) of the top five stock by computing the average daily return and multiply with 250 (Here, we assume that there are 250 trading days in a year.). You must put your results by filling the blank below:\n",
    "The stocks are\n",
    "\n",
    "\n",
    "  1.  ______________________ with ________________ % of return\n",
    "  2.   ______________________ with ________________ % of return\n",
    "  3.   ______________________ with ________________ % of return\n",
    "  4.   ______________________ with ________________ % of return\n",
    "  5.   ______________________ with ________________ % of return\n"
   ]
  },
  {
   "cell_type": "code",
   "execution_count": 28,
   "metadata": {
    "colab": {
     "base_uri": "https://localhost:8080/"
    },
    "id": "NMNT2HTSmtEr",
    "outputId": "e201ea85-130e-4a2c-a23a-7e56ade4baea"
   },
   "outputs": [
    {
     "name": "stdout",
     "output_type": "stream",
     "text": [
      "        Daily Return\n",
      "KTC         0.510674\n",
      "CBG         0.473796\n",
      "GLOBAL      0.250856\n",
      "IVL         0.233689\n",
      "SAWAD       0.207978\n"
     ]
    }
   ],
   "source": [
    "# put your code for finding the top five stocks with the highest average return here.\n",
    "ret = []\n",
    "for stock in stocks:\n",
    "  ret.append(data_frames[stock]['Adj Close'].pct_change(1).dropna().mean()*250)\n",
    "df = pd.DataFrame(ret, index=stocks, columns=[\"Daily Return\"])\n",
    "idx = np.argsort(df[\"Daily Return\"].values)[::-1]\n",
    "print(df.iloc[idx[:5]])"
   ]
  },
  {
   "cell_type": "markdown",
   "metadata": {
    "id": "jtgDUjCsmzzF"
   },
   "source": [
    "3. You also concern about the risk. As a result, you want stock with the lowest volatility. Here. the volatilities are measured by the standard deviations (STDs), Report stocks with the five lowest volatilities and compute their corresponding annualized STD by multiply the daily STD with the square root of 250.(√250  )  \n",
    "The stocks are \n",
    "  1.   ______ with ____ % of volatility\n",
    "  2.   ______ with ____ % of volatility\n",
    "  3.   ______ with ____ % of volatility\n",
    "  4.   ______ with ____ % of volatility\n",
    "  5.   ______ with ____ % of volatility"
   ]
  },
  {
   "cell_type": "code",
   "execution_count": 27,
   "metadata": {
    "colab": {
     "base_uri": "https://localhost:8080/"
    },
    "id": "mR8QCIIQn9qT",
    "outputId": "6eb1cd48-54a0-4e2a-b772-954f4d39c9e3"
   },
   "outputs": [
    {
     "name": "stdout",
     "output_type": "stream",
     "text": [
      "        Daily STD\n",
      "CPALL    0.262414\n",
      "TTW      0.263115\n",
      "ADVANC   0.269114\n",
      "INTUCH   0.299354\n",
      "SCC      0.355591\n"
     ]
    }
   ],
   "source": [
    "# put your code for finding the top five stocks with the lowest average volatilities here.\n",
    "# put your code for finding the top five stocks with the highest average return here.\n",
    "ret = []\n",
    "for stock in stocks:\n",
    "  ret.append(data_frames[stock]['Adj Close'].pct_change(1).dropna().std()*np.sqrt(250))\n",
    "df = pd.DataFrame(ret, index=stocks, columns=[\"Daily STD\"])\n",
    "idx = np.argsort(df[\"Daily STD\"].values)\n",
    "print(df.iloc[idx[:5]])"
   ]
  },
  {
   "cell_type": "markdown",
   "metadata": {
    "id": "cnPGnQ4Fo-6b"
   },
   "source": [
    "4. Furthermore, the volatility and return should be compared. A stock with the same level of return the one with lower volatility is more preferable. Thus, in this part, you will compute the coefficient of variation (CV) defined as (STD/RET). Here, a stock with lower CV is less volatile. However, we should look only the stock with positive return. Hence, find the op 5 stocks with the **lowest CV** and the **positive return**:\n",
    "\n",
    "The stocks are\n",
    "  1.   ______ with CV of ____ \n",
    "  2.   ______ with CV of ____ \n",
    "  3.   ______ with CV of ____ \n",
    "  4.   ______ with CV of ____ \n",
    "  5.   ______ with CV of ____ \n",
    "\n"
   ]
  },
  {
   "cell_type": "code",
   "execution_count": 32,
   "metadata": {
    "colab": {
     "base_uri": "https://localhost:8080/"
    },
    "id": "wImT3O_AoSE7",
    "outputId": "ce67d3ba-fa38-4b32-dd0d-1a01052b2dd5"
   },
   "outputs": [
    {
     "name": "stdout",
     "output_type": "stream",
     "text": [
      "              CV\n",
      "KTC     1.026461\n",
      "CBG     1.137994\n",
      "GLOBAL  2.097906\n",
      "IVL     2.692603\n",
      "SAWAD   3.029335\n"
     ]
    }
   ],
   "source": [
    "# put your code for finding the top five stocks with the lowest CVs here.\n",
    "ret = []\n",
    "for stock in stocks:\n",
    "  retk = data_frames[stock]['Adj Close'].pct_change(1).dropna().mean()*250\n",
    "  stdk = data_frames[stock]['Adj Close'].pct_change(1).dropna().std()*np.sqrt(250)\n",
    "  ret.append(stdk/retk)\n",
    "df = pd.DataFrame(ret, index=stocks, columns=[\"CV\"])\n",
    "df_positive = df[df.CV > 0]\n",
    "idx = np.argsort(df_positive[\"CV\"].values)\n",
    "print(df_positive.iloc[idx[:5]])"
   ]
  },
  {
   "cell_type": "markdown",
   "metadata": {
    "id": "N9igc9lyq29w"
   },
   "source": [
    "5. From the stock in Part 4. Use the stock with lowest CV and plot histogram of the annualized return.\n"
   ]
  },
  {
   "cell_type": "code",
   "execution_count": 41,
   "metadata": {
    "colab": {
     "base_uri": "https://localhost:8080/",
     "height": 285
    },
    "id": "MOQu1SNAqzU2",
    "outputId": "5670624e-b2c6-447f-ca99-ce2cb4b5a44b"
   },
   "outputs": [
    {
     "data": {
      "text/plain": [
       "<matplotlib.axes._subplots.AxesSubplot at 0x7f05d551a860>"
      ]
     },
     "execution_count": 41,
     "metadata": {
      "tags": []
     },
     "output_type": "execute_result"
    },
    {
     "data": {
      "image/png": "[encoded data removed]",
      "text/plain": [
       "<Figure size 432x288 with 1 Axes>"
      ]
     },
     "metadata": {
      "needs_background": "light",
      "tags": []
     },
     "output_type": "display_data"
    }
   ],
   "source": [
    "# put your code for plot histogram and histogram here.\n",
    "df_ktc = data_frames['KTC']\n",
    "ret = df_ktc[\"Adj Close\"].pct_change(1).dropna() *250\n",
    "ret.plot.hist(bins=20)"
   ]
  },
  {
   "cell_type": "markdown",
   "metadata": {
    "id": "lQ0ORUNarJ6e"
   },
   "source": [
    "6. The investment is risky. To control the risk, a good investor will diversify their portfolio with securities that have negative correlations. Find the two stocks with lowest (more negative) correlations \n",
    "Stock 1_________ Stock 2__________ with correlation of ___________________."
   ]
  },
  {
   "cell_type": "code",
   "execution_count": 57,
   "metadata": {
    "colab": {
     "base_uri": "https://localhost:8080/"
    },
    "id": "IVGtFmw8r0NN",
    "outputId": "172e4398-ac00-422e-c3c4-da679b7e79ce"
   },
   "outputs": [
    {
     "name": "stdout",
     "output_type": "stream",
     "text": [
      "19 29\n",
      "Stock with lowest Correlatoin coefficient:  GULF MTC\n",
      "   with rho  = 0.05636011404601099\n"
     ]
    }
   ],
   "source": [
    "# put your code fo finding stocks with lowest correlation here.\n",
    "ret = dict()\n",
    "for stock in stocks:\n",
    "  ret[stock] = data_frames[stock]['Adj Close'].pct_change(1).dropna()\n",
    "df_ret = pd.DataFrame(ret)\n",
    "corr =df_ret.corr() \n",
    "cor_mat = corr.values\n",
    "rw,cl = np.nonzero(cor_mat == cor_mat.min())\n",
    "print(rw[0], cl[0])\n",
    "print(\"Stock with lowest Correlatoin coefficient: \", df_ret.columns[rw[0]], df_ret.columns[cl[0]])\n",
    "print(f\"   with rho  = {cor_mat[rw[0], cl[0]]}\")\n"
   ]
  },
  {
   "cell_type": "markdown",
   "metadata": {
    "id": "g1THy2_tr9u0"
   },
   "source": [
    "7.From two stocks in Part 6. If an intestor invest 1 million THB on Stock 1 alone on January 1, 2020. How much money an investor has at the end of December 21, 2020? Answer _______________________"
   ]
  },
  {
   "cell_type": "code",
   "execution_count": 69,
   "metadata": {
    "colab": {
     "base_uri": "https://localhost:8080/"
    },
    "id": "Xj4Q56Y_r9Cs",
    "outputId": "2a88ef4e-cc57-4ec4-bf3a-7e6d70df4627"
   },
   "outputs": [
    {
     "name": "stdout",
     "output_type": "stream",
     "text": [
      "Total Wealth on the last day by investing 1,000,000 on GULF: 201,484.56\n"
     ]
    }
   ],
   "source": [
    "# put you code for 7 here.\n",
    "wealth = 1000000\n",
    "stock = \"GULF\"\n",
    "stock_at_day_1 = wealth / data_frames[stock]['Adj Close'].values[0]\n",
    "wealth_last_day = stock_at_day_1 * data_frames[stock]['Adj Close'].values[-1]\n",
    "print(f\"Total Wealth on the last day by investing {wealth:,} on {stock}: {wealth_last_day:,.2f}\")"
   ]
  },
  {
   "cell_type": "markdown",
   "metadata": {
    "id": "lMWDB1wwsdG3"
   },
   "source": [
    "8.From two stocks in Part 6. If an intestor invest 1 million THB on Stock 2 alone on January 1, 2020. How much money an investor has at the end of December 21, 2020? Answer _______________________"
   ]
  },
  {
   "cell_type": "code",
   "execution_count": 70,
   "metadata": {
    "colab": {
     "base_uri": "https://localhost:8080/"
    },
    "id": "sMO7Uzi0smBO",
    "outputId": "e243ee09-5d2b-4813-edba-d05422c9ffd7"
   },
   "outputs": [
    {
     "name": "stdout",
     "output_type": "stream",
     "text": [
      "Total Wealth on the last day by investing 1,000,000 on MTC: 894,658.37\n"
     ]
    }
   ],
   "source": [
    "# put you code for 8 here.\n",
    "wealth = 1000000\n",
    "stock = \"MTC\"\n",
    "stock_at_day_1 = wealth / data_frames[stock]['Adj Close'].values[0]\n",
    "wealth_last_day = stock_at_day_1 * data_frames[stock]['Adj Close'].values[-1]\n",
    "print(f\"Total Wealth on the last day by investing {wealth:,} on {stock}: {wealth_last_day:,.2f}\")"
   ]
  },
  {
   "cell_type": "markdown",
   "metadata": {
    "id": "UDL3T_6Fsn5n"
   },
   "source": [
    "9.From two stocks in Part 6. If an intestor invest 0.5 million THB on Stock 1 and 0.5 million THB on Stock 2 on January 1, 2020. How much money an investor has at the end of December 21, 2020? Answer _________________"
   ]
  },
  {
   "cell_type": "code",
   "execution_count": 71,
   "metadata": {
    "colab": {
     "base_uri": "https://localhost:8080/"
    },
    "id": "PYP6dU-tWFnq",
    "outputId": "45c50bf9-c461-4285-d01e-672691a56586"
   },
   "outputs": [
    {
     "name": "stdout",
     "output_type": "stream",
     "text": [
      "Total Wealth on the last day by investing 500,000 on GULF and MTC each: 548,071.47\n"
     ]
    }
   ],
   "source": [
    "# put you code for 7 here.\n",
    "wealth = 500000\n",
    "stock1 = \"GULF\"\n",
    "stock_at_day_1 = wealth / data_frames[stock1]['Adj Close'].values[0]\n",
    "wealth_last_day_1 = stock_at_day_1 * data_frames[stock1]['Adj Close'].values[-1]\n",
    "\n",
    "\n",
    "wealth = 500000\n",
    "stock2 = \"MTC\"\n",
    "stock_at_day_1 = wealth / data_frames[stock2]['Adj Close'].values[0]\n",
    "wealth_last_day_2 = stock_at_day_1 * data_frames[stock2]['Adj Close'].values[-1]\n",
    "print(f\"Total Wealth on the last day by investing {wealth:,} on {stock1} and {stock2} each: {wealth_last_day_1 + wealth_last_day_2:,.2f}\")"
   ]
  }
 ],
 "metadata": {
  "colab": {
   "name": "Solution02_StockSelectionCompFinance.ipynb",
   "provenance": [],
   "toc_visible": true
  },
  "kernelspec": {
   "display_name": "Python 3",
   "language": "python",
   "name": "python3"
  },
  "language_info": {
   "codemirror_mode": {
    "name": "ipython",
    "version": 3
   },
   "file_extension": ".py",
   "mimetype": "text/x-python",
   "name": "python",
   "nbconvert_exporter": "python",
   "pygments_lexer": "ipython3",
   "version": "3.7.6"
  }
 },
 "nbformat": 4,
 "nbformat_minor": 1
}
