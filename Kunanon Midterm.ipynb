{
 "metadata": {
  "language_info": {
   "codemirror_mode": {
    "name": "ipython",
    "version": 3
   },
   "file_extension": ".py",
   "mimetype": "text/x-python",
   "name": "python",
   "nbconvert_exporter": "python",
   "pygments_lexer": "ipython3",
   "version": "3.9.2-final"
  },
  "orig_nbformat": 2,
  "kernelspec": {
   "name": "python3",
   "display_name": "Python 3.9.2 64-bit",
   "metadata": {
    "interpreter": {
     "hash": "ac2eaa0ea0ebeafcc7822e65e46aa9d4f966f30b695406963e145ea4a91cd4fc"
    }
   }
  }
 },
 "nbformat": 4,
 "nbformat_minor": 2,
 "cells": [
  {
   "cell_type": "code",
   "execution_count": 18,
   "metadata": {},
   "outputs": [],
   "source": [
    "import pandas as pd\n",
    "import pandas_datareader as reader\n",
    "import numpy as np\n",
    "import matplotlib.pyplot as plt"
   ]
  },
  {
   "cell_type": "code",
   "execution_count": 22,
   "metadata": {},
   "outputs": [
    {
     "output_type": "execute_result",
     "data": {
      "text/plain": [
       "                 High        Low       Open      Close     Volume  Adj Close\n",
       "Date                                                                        \n",
       "2010-01-04  18.799999  18.600000  18.799999  18.600000   174300.0  11.050608\n",
       "2010-01-05  19.000000  18.799999  18.799999  18.900000   493300.0  11.228843\n",
       "2010-01-06  19.100000  18.900000  19.100000  19.000000  2035800.0  11.288255\n",
       "2010-01-07  19.100000  18.799999  19.100000  18.799999  1097400.0  11.169432\n",
       "2010-01-08  18.900000  18.700001  18.799999  18.900000   345600.0  11.228843"
      ],
      "text/html": "<div>\n<style scoped>\n    .dataframe tbody tr th:only-of-type {\n        vertical-align: middle;\n    }\n\n    .dataframe tbody tr th {\n        vertical-align: top;\n    }\n\n    .dataframe thead th {\n        text-align: right;\n    }\n</style>\n<table border=\"1\" class=\"dataframe\">\n  <thead>\n    <tr style=\"text-align: right;\">\n      <th></th>\n      <th>High</th>\n      <th>Low</th>\n      <th>Open</th>\n      <th>Close</th>\n      <th>Volume</th>\n      <th>Adj Close</th>\n    </tr>\n    <tr>\n      <th>Date</th>\n      <th></th>\n      <th></th>\n      <th></th>\n      <th></th>\n      <th></th>\n      <th></th>\n    </tr>\n  </thead>\n  <tbody>\n    <tr>\n      <th>2010-01-04</th>\n      <td>18.799999</td>\n      <td>18.600000</td>\n      <td>18.799999</td>\n      <td>18.600000</td>\n      <td>174300.0</td>\n      <td>11.050608</td>\n    </tr>\n    <tr>\n      <th>2010-01-05</th>\n      <td>19.000000</td>\n      <td>18.799999</td>\n      <td>18.799999</td>\n      <td>18.900000</td>\n      <td>493300.0</td>\n      <td>11.228843</td>\n    </tr>\n    <tr>\n      <th>2010-01-06</th>\n      <td>19.100000</td>\n      <td>18.900000</td>\n      <td>19.100000</td>\n      <td>19.000000</td>\n      <td>2035800.0</td>\n      <td>11.288255</td>\n    </tr>\n    <tr>\n      <th>2010-01-07</th>\n      <td>19.100000</td>\n      <td>18.799999</td>\n      <td>19.100000</td>\n      <td>18.799999</td>\n      <td>1097400.0</td>\n      <td>11.169432</td>\n    </tr>\n    <tr>\n      <th>2010-01-08</th>\n      <td>18.900000</td>\n      <td>18.700001</td>\n      <td>18.799999</td>\n      <td>18.900000</td>\n      <td>345600.0</td>\n      <td>11.228843</td>\n    </tr>\n  </tbody>\n</table>\n</div>"
     },
     "metadata": {},
     "execution_count": 22
    }
   ],
   "source": [
    "delta = reader.DataReader(\"DELTA.BK\", \"yahoo\",\"2010-01-01\",\"2020-12-31\")\n",
    "delta.head() "
   ]
  },
  {
   "cell_type": "code",
   "execution_count": 24,
   "metadata": {},
   "outputs": [
    {
     "output_type": "error",
     "ename": "IndentationError",
     "evalue": "unexpected indent (<ipython-input-24-cfbc6494aec2>, line 5)",
     "traceback": [
      "\u001b[0;36m  File \u001b[0;32m\"<ipython-input-24-cfbc6494aec2>\"\u001b[0;36m, line \u001b[0;32m5\u001b[0m\n\u001b[0;31m    corr_df.head().reset_index()\u001b[0m\n\u001b[0m    ^\u001b[0m\n\u001b[0;31mIndentationError\u001b[0m\u001b[0;31m:\u001b[0m unexpected indent\n"
     ]
    }
   ],
   "source": [
    "corr_df = delta.corr(method='pearson')\n",
    "\n",
    " #reset symbol as index (rather than 0-X)\n",
    "\n",
    " corr_df.head().reset_index()\n",
    "\n",
    " del corr_df.index.name\n",
    "\n",
    " corr_df.head(10)"
   ]
  },
  {
   "cell_type": "code",
   "execution_count": null,
   "metadata": {},
   "outputs": [],
   "source": []
  }
 ]
}