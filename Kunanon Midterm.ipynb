{
 "metadata": {
  "language_info": {
   "codemirror_mode": {
    "name": "ipython",
    "version": 3
   },
   "file_extension": ".py",
   "mimetype": "text/x-python",
   "name": "python",
   "nbconvert_exporter": "python",
   "pygments_lexer": "ipython3",
   "version": "3.9.2-final"
  },
  "orig_nbformat": 2,
  "kernelspec": {
   "name": "python3",
   "display_name": "Python 3.9.2 64-bit",
   "metadata": {
    "interpreter": {
     "hash": "ac2eaa0ea0ebeafcc7822e65e46aa9d4f966f30b695406963e145ea4a91cd4fc"
    }
   }
  }
 },
 "nbformat": 4,
 "nbformat_minor": 2,
 "cells": [
  {
   "cell_type": "code",
   "execution_count": 3,
   "metadata": {},
   "outputs": [],
   "source": [
    "import pandas as pd\n",
    "from pandas_datareader import data\n",
    "import seaborn as sns\n",
    "import numpy as np\n",
    "import matplotlib.pyplot as plt"
   ]
  },
  {
   "source": [
    "def movingavg(data_frame, is_plot=False):\n",
    "  \"\"\"\n",
    "  Moving Average crossing strategy:\n",
    "  Inputs: \n",
    "          data_frame: pandas dataframe of the stock prices. It must have the \"Adj Close\" prices\n",
    "          is_plot: If true, this code will plot the Adj close price and show the buy and sell points.\n",
    "  output:\n",
    "          signal indicator: the series of indicators 1 to take the position, 0 for keep previous status and -1 to clear the position.\n",
    "\n",
    "  \"\"\"\n",
    "  long_win = 25\n",
    "  short_win = 10\n",
    "  close = data_frame['Adj Close'] \n",
    "  mu_long = close.rolling(long_win).mean()\n",
    "  mu_short = close.rolling(short_win).mean()\n",
    "  signal = []\n",
    "  status = 0\n",
    "  for k in range(close.shape[0]):\n",
    "    if ( mu_short[k] > mu_long[k]) and (status ==0):\n",
    "      signal.append(1)\n",
    "      status = 1\n",
    "    elif (mu_short[k] < mu_long[k]) and (status ==1):\n",
    "      signal.append(-1)\n",
    "      status = 0\n",
    "    else:\n",
    "      signal.append(0)\n",
    "\n",
    "  signal = pd.Series(data=signal, index=data_frame.index)\n",
    "  buy_sig = close[signal == 1]\n",
    "  sell_sig = close[signal == -1]\n",
    "  if is_plot:\n",
    "    plt.figure(figsize=(15,10))\n",
    "    plt.plot(close)    \n",
    "    plt.plot(mu_long)\n",
    "    plt.plot(mu_short)\n",
    "    plt.plot(buy_sig, color=\"red\", marker=\"^\",linestyle=\"\")   \n",
    "    plt.plot(sell_sig, color=\"black\", marker=\"v\",linestyle=\"\")  \n",
    "    plt.legend([\"Adj Close\",f\"MA({long_win})\", f\"MA({short_win})\", \"Buy\", \"Sell\"])\n",
    "    plt.title(\"Moving Average Crossing\")\n",
    "    plt.grid()\n",
    "  return signal\n"
   ],
   "cell_type": "markdown",
   "metadata": {}
  },
  {
   "cell_type": "code",
   "execution_count": null,
   "metadata": {},
   "outputs": [],
   "source": []
  }
 ]
}