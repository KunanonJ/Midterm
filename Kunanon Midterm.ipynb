{
 "metadata": {
  "language_info": {
   "codemirror_mode": {
    "name": "ipython",
    "version": 3
   },
   "file_extension": ".py",
   "mimetype": "text/x-python",
   "name": "python",
   "nbconvert_exporter": "python",
   "pygments_lexer": "ipython3",
   "version": "3.9.2-final"
  },
  "orig_nbformat": 2,
  "kernelspec": {
   "name": "python3",
   "display_name": "Python 3.9.2 64-bit",
   "metadata": {
    "interpreter": {
     "hash": "ac2eaa0ea0ebeafcc7822e65e46aa9d4f966f30b695406963e145ea4a91cd4fc"
    }
   }
  }
 },
 "nbformat": 4,
 "nbformat_minor": 2,
 "cells": [
  {
   "cell_type": "code",
   "execution_count": 18,
   "metadata": {},
   "outputs": [],
   "source": [
    "import pandas as pd\n",
    "import pandas_datareader as reader\n",
    "import numpy as np\n",
    "import matplotlib.pyplot as plt"
   ]
  },
  {
   "cell_type": "code",
   "execution_count": 28,
   "metadata": {},
   "outputs": [
    {
     "output_type": "execute_result",
     "data": {
      "text/plain": [
       "                 High        Low       Open      Close     Volume  Adj Close\n",
       "Date                                                                        \n",
       "2010-01-04  18.799999  18.600000  18.799999  18.600000   174300.0  11.050608\n",
       "2010-01-05  19.000000  18.799999  18.799999  18.900000   493300.0  11.228843\n",
       "2010-01-06  19.100000  18.900000  19.100000  19.000000  2035800.0  11.288255\n",
       "2010-01-07  19.100000  18.799999  19.100000  18.799999  1097400.0  11.169432\n",
       "2010-01-08  18.900000  18.700001  18.799999  18.900000   345600.0  11.228843"
      ],
      "text/html": "<div>\n<style scoped>\n    .dataframe tbody tr th:only-of-type {\n        vertical-align: middle;\n    }\n\n    .dataframe tbody tr th {\n        vertical-align: top;\n    }\n\n    .dataframe thead th {\n        text-align: right;\n    }\n</style>\n<table border=\"1\" class=\"dataframe\">\n  <thead>\n    <tr style=\"text-align: right;\">\n      <th></th>\n      <th>High</th>\n      <th>Low</th>\n      <th>Open</th>\n      <th>Close</th>\n      <th>Volume</th>\n      <th>Adj Close</th>\n    </tr>\n    <tr>\n      <th>Date</th>\n      <th></th>\n      <th></th>\n      <th></th>\n      <th></th>\n      <th></th>\n      <th></th>\n    </tr>\n  </thead>\n  <tbody>\n    <tr>\n      <th>2010-01-04</th>\n      <td>18.799999</td>\n      <td>18.600000</td>\n      <td>18.799999</td>\n      <td>18.600000</td>\n      <td>174300.0</td>\n      <td>11.050608</td>\n    </tr>\n    <tr>\n      <th>2010-01-05</th>\n      <td>19.000000</td>\n      <td>18.799999</td>\n      <td>18.799999</td>\n      <td>18.900000</td>\n      <td>493300.0</td>\n      <td>11.228843</td>\n    </tr>\n    <tr>\n      <th>2010-01-06</th>\n      <td>19.100000</td>\n      <td>18.900000</td>\n      <td>19.100000</td>\n      <td>19.000000</td>\n      <td>2035800.0</td>\n      <td>11.288255</td>\n    </tr>\n    <tr>\n      <th>2010-01-07</th>\n      <td>19.100000</td>\n      <td>18.799999</td>\n      <td>19.100000</td>\n      <td>18.799999</td>\n      <td>1097400.0</td>\n      <td>11.169432</td>\n    </tr>\n    <tr>\n      <th>2010-01-08</th>\n      <td>18.900000</td>\n      <td>18.700001</td>\n      <td>18.799999</td>\n      <td>18.900000</td>\n      <td>345600.0</td>\n      <td>11.228843</td>\n    </tr>\n  </tbody>\n</table>\n</div>"
     },
     "metadata": {},
     "execution_count": 28
    }
   ],
   "source": [
    "df = reader.DataReader(\"DELTA.BK\", \"yahoo\",\"2010-01-01\",\"2020-12-31\")\n",
    "df.head() "
   ]
  },
  {
   "cell_type": "code",
   "execution_count": 30,
   "metadata": {},
   "outputs": [
    {
     "output_type": "execute_result",
     "data": {
      "text/plain": [
       "               High       Low      Open     Close    Volume  Adj Close\n",
       "High       1.000000  0.989710  0.995498  0.991664  0.399454   0.987984\n",
       "Low        0.989710  1.000000  0.996070  0.996483  0.360442   0.991735\n",
       "Open       0.995498  0.996070  1.000000  0.991823  0.372209   0.987426\n",
       "Close      0.991664  0.996483  0.991823  1.000000  0.379253   0.995673\n",
       "Volume     0.399454  0.360442  0.372209  0.379253  1.000000   0.379213\n",
       "Adj Close  0.987984  0.991735  0.987426  0.995673  0.379213   1.000000"
      ],
      "text/html": "<div>\n<style scoped>\n    .dataframe tbody tr th:only-of-type {\n        vertical-align: middle;\n    }\n\n    .dataframe tbody tr th {\n        vertical-align: top;\n    }\n\n    .dataframe thead th {\n        text-align: right;\n    }\n</style>\n<table border=\"1\" class=\"dataframe\">\n  <thead>\n    <tr style=\"text-align: right;\">\n      <th></th>\n      <th>High</th>\n      <th>Low</th>\n      <th>Open</th>\n      <th>Close</th>\n      <th>Volume</th>\n      <th>Adj Close</th>\n    </tr>\n  </thead>\n  <tbody>\n    <tr>\n      <th>High</th>\n      <td>1.000000</td>\n      <td>0.989710</td>\n      <td>0.995498</td>\n      <td>0.991664</td>\n      <td>0.399454</td>\n      <td>0.987984</td>\n    </tr>\n    <tr>\n      <th>Low</th>\n      <td>0.989710</td>\n      <td>1.000000</td>\n      <td>0.996070</td>\n      <td>0.996483</td>\n      <td>0.360442</td>\n      <td>0.991735</td>\n    </tr>\n    <tr>\n      <th>Open</th>\n      <td>0.995498</td>\n      <td>0.996070</td>\n      <td>1.000000</td>\n      <td>0.991823</td>\n      <td>0.372209</td>\n      <td>0.987426</td>\n    </tr>\n    <tr>\n      <th>Close</th>\n      <td>0.991664</td>\n      <td>0.996483</td>\n      <td>0.991823</td>\n      <td>1.000000</td>\n      <td>0.379253</td>\n      <td>0.995673</td>\n    </tr>\n    <tr>\n      <th>Volume</th>\n      <td>0.399454</td>\n      <td>0.360442</td>\n      <td>0.372209</td>\n      <td>0.379253</td>\n      <td>1.000000</td>\n      <td>0.379213</td>\n    </tr>\n    <tr>\n      <th>Adj Close</th>\n      <td>0.987984</td>\n      <td>0.991735</td>\n      <td>0.987426</td>\n      <td>0.995673</td>\n      <td>0.379213</td>\n      <td>1.000000</td>\n    </tr>\n  </tbody>\n</table>\n</div>"
     },
     "metadata": {},
     "execution_count": 30
    }
   ],
   "source": [
    "df.corr(method='pearson')"
   ]
  },
  {
   "cell_type": "code",
   "execution_count": 31,
   "metadata": {},
   "outputs": [
    {
     "output_type": "execute_result",
     "data": {
      "text/plain": [
       "               High       Low      Open     Close    Volume  Adj Close\n",
       "High       1.000000  0.979005  0.981825  0.984045  0.103654   0.913156\n",
       "Low        0.979005  1.000000  0.983341  0.982178  0.091715   0.914364\n",
       "Open       0.981825  0.983341  1.000000  0.972808  0.095911   0.908688\n",
       "Close      0.984045  0.982178  0.972808  1.000000  0.098901   0.918559\n",
       "Volume     0.103654  0.091715  0.095911  0.098901  1.000000   0.077622\n",
       "Adj Close  0.913156  0.914364  0.908688  0.918559  0.077622   1.000000"
      ],
      "text/html": "<div>\n<style scoped>\n    .dataframe tbody tr th:only-of-type {\n        vertical-align: middle;\n    }\n\n    .dataframe tbody tr th {\n        vertical-align: top;\n    }\n\n    .dataframe thead th {\n        text-align: right;\n    }\n</style>\n<table border=\"1\" class=\"dataframe\">\n  <thead>\n    <tr style=\"text-align: right;\">\n      <th></th>\n      <th>High</th>\n      <th>Low</th>\n      <th>Open</th>\n      <th>Close</th>\n      <th>Volume</th>\n      <th>Adj Close</th>\n    </tr>\n  </thead>\n  <tbody>\n    <tr>\n      <th>High</th>\n      <td>1.000000</td>\n      <td>0.979005</td>\n      <td>0.981825</td>\n      <td>0.984045</td>\n      <td>0.103654</td>\n      <td>0.913156</td>\n    </tr>\n    <tr>\n      <th>Low</th>\n      <td>0.979005</td>\n      <td>1.000000</td>\n      <td>0.983341</td>\n      <td>0.982178</td>\n      <td>0.091715</td>\n      <td>0.914364</td>\n    </tr>\n    <tr>\n      <th>Open</th>\n      <td>0.981825</td>\n      <td>0.983341</td>\n      <td>1.000000</td>\n      <td>0.972808</td>\n      <td>0.095911</td>\n      <td>0.908688</td>\n    </tr>\n    <tr>\n      <th>Close</th>\n      <td>0.984045</td>\n      <td>0.982178</td>\n      <td>0.972808</td>\n      <td>1.000000</td>\n      <td>0.098901</td>\n      <td>0.918559</td>\n    </tr>\n    <tr>\n      <th>Volume</th>\n      <td>0.103654</td>\n      <td>0.091715</td>\n      <td>0.095911</td>\n      <td>0.098901</td>\n      <td>1.000000</td>\n      <td>0.077622</td>\n    </tr>\n    <tr>\n      <th>Adj Close</th>\n      <td>0.913156</td>\n      <td>0.914364</td>\n      <td>0.908688</td>\n      <td>0.918559</td>\n      <td>0.077622</td>\n      <td>1.000000</td>\n    </tr>\n  </tbody>\n</table>\n</div>"
     },
     "metadata": {},
     "execution_count": 31
    }
   ],
   "source": [
    "df.corr(method='kendall')"
   ]
  },
  {
   "source": [
    "# C: No "
   ],
   "cell_type": "markdown",
   "metadata": {}
  }
 ]
}