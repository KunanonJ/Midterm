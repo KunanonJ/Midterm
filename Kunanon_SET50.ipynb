{
 "cells": [
  {
   "cell_type": "markdown",
   "metadata": {
    "id": "U1Q30pstMUex"
   },
   "source": [
    "# Assignment 2\n",
    "\n",
    "\n",
    "---\n",
    "\n",
    "This assignment is due on Feb 15th, 2020. The goal of this assignment is to use statistics to answer the important question that any technical trading strategy can yield a better return that a simple \"Buy-and-Hold\" strategy. Next, \n"
   ]
  },
  {
   "cell_type": "markdown",
   "metadata": {
    "id": "x60q9b_6NXKE"
   },
   "source": [
    "There are four technical strategies implemented in this assignement, namely, buy-and-hold, moving average crossing, Bollinger band and relative signal strength indicator. \n",
    "\n",
    "\n",
    "1.   In Buy-and-hold strategy, a trader simply buys on the first trading day and keep holding the shares. \n",
    "2.   In the moving average crossing, a trader uses 10 and 25 historical averages to create the buy and sell signals. A trader will buy if 10-days moving average is more than 25-day moving average, and sell if 10-days moving average is less than or equal to 25-day moving average\n",
    "3. In Bollinger band, a trader will compute 10-day moving mean and standard deviation. If the close price is higher than the mean + standard divation, a trader will buy. Howevwer, if the close price is lower than the mean - standard deviation, a trader will sell.\n",
    "4. the relative strength indicator (RSI) measures the amount of buy and sell volumes to find out whether there are the over-bought or over-sold in the market. A trader will sell a stock if the RSI is more than 70 and sell a stock if RSI is less than 40. \n",
    "The Python code for each strategies is given below.\n"
   ]
  },
  {
   "cell_type": "code",
   "execution_count": 1,
   "metadata": {
    "id": "9gJz2_woSETy"
   },
   "outputs": [],
   "source": [
    "import csv \n",
    "from pandas_datareader import data\n",
    "import matplotlib.pyplot as plt\n",
    "import pandas as pd\n",
    "import numpy as np"
   ]
  },
  {
   "cell_type": "code",
   "execution_count": 2,
   "metadata": {
    "id": "8YvDSOhcMKNj"
   },
   "outputs": [],
   "source": [
    "def buyAndHold(data_frame, is_plot=False):\n",
    "  \"\"\"\n",
    "  Buy and Hold strategy:\n",
    "  Inputs: \n",
    "          data_frame: pandas dataframe of the stock prices. It must have the \"Adj Close\" prices\n",
    "          is_plot: If true, this code will plot the Adj close price and show the buy and sell points.\n",
    "  output:\n",
    "          signal indicator: the series of indicators 1 to take the position, 0 for keep previous status and -1 to clear the position.\n",
    "\n",
    "  \"\"\"\n",
    "\n",
    "  close = data_frame['Adj Close']\n",
    "  status = 0\n",
    "  signal = []\n",
    "  for k in range(close.shape[0]):\n",
    "    if k == 0:\n",
    "      signal.append(1)\n",
    "    else:\n",
    "      signal.append(0)\n",
    "  signal = pd.Series(data=signal, index=data_frame.index)\n",
    "  buy_sig = close[signal == 1]\n",
    "  sell_sig = close[signal == -1]\n",
    "  if is_plot:\n",
    "    plt.figure(figsize=(15,10))\n",
    "    plt.plot(close)    \n",
    "    plt.plot(buy_sig, color=\"red\", marker=\"^\",linestyle=\"\")   \n",
    "    plt.plot(sell_sig, color=\"black\", marker=\"v\",linestyle=\"\")  \n",
    "    plt.legend([\"Adj Close\",\"Buy\", \"Sell\"])\n",
    "    plt.title(\"Buy and Hold\")\n",
    "    plt.grid()\n",
    "  return signal\n"
   ]
  },
  {
   "cell_type": "code",
   "execution_count": 3,
   "metadata": {
    "id": "lbwKqStGQoJH"
   },
   "outputs": [],
   "source": [
    "def movingavg(data_frame, is_plot=False):\n",
    "  \"\"\"\n",
    "  Moving Average crossing strategy:\n",
    "  Inputs: \n",
    "          data_frame: pandas dataframe of the stock prices. It must have the \"Adj Close\" prices\n",
    "          is_plot: If true, this code will plot the Adj close price and show the buy and sell points.\n",
    "  output:\n",
    "          signal indicator: the series of indicators 1 to take the position, 0 for keep previous status and -1 to clear the position.\n",
    "\n",
    "  \"\"\"\n",
    "  long_win = 25\n",
    "  short_win = 10\n",
    "  close = data_frame['Adj Close'] \n",
    "  mu_long = close.rolling(long_win).mean()\n",
    "  mu_short = close.rolling(short_win).mean()\n",
    "  signal = []\n",
    "  status = 0\n",
    "  for k in range(close.shape[0]):\n",
    "    if ( mu_short[k] > mu_long[k]) and (status ==0):\n",
    "      signal.append(1)\n",
    "      status = 1\n",
    "    elif (mu_short[k] < mu_long[k]) and (status ==1):\n",
    "      signal.append(-1)\n",
    "      status = 0\n",
    "    else:\n",
    "      signal.append(0)\n",
    "\n",
    "  signal = pd.Series(data=signal, index=data_frame.index)\n",
    "  buy_sig = close[signal == 1]\n",
    "  sell_sig = close[signal == -1]\n",
    "  if is_plot:\n",
    "    plt.figure(figsize=(15,10))\n",
    "    plt.plot(close)    \n",
    "    plt.plot(mu_long)\n",
    "    plt.plot(mu_short)\n",
    "    plt.plot(buy_sig, color=\"red\", marker=\"^\",linestyle=\"\")   \n",
    "    plt.plot(sell_sig, color=\"black\", marker=\"v\",linestyle=\"\")  \n",
    "    plt.legend([\"Adj Close\",f\"MA({long_win})\", f\"MA({short_win})\", \"Buy\", \"Sell\"])\n",
    "    plt.title(\"Moving Average Crossing\")\n",
    "    plt.grid()\n",
    "  return signal\n"
   ]
  },
  {
   "cell_type": "code",
   "execution_count": 4,
   "metadata": {
    "id": "IxRIGQWZQyrM"
   },
   "outputs": [],
   "source": [
    "def bollinger(data_frame, is_plot=False):\n",
    "  \"\"\"\n",
    "  Bollinger Band strategy:\n",
    "  Inputs: \n",
    "          data_frame: pandas dataframe of the stock prices. It must have the \"Adj Close\" prices\n",
    "          is_plot: If true, this code will plot the Adj close price and show the buy and sell points.\n",
    "  output:\n",
    "          signal indicator: the series of indicators 1 to take the position, 0 for keep previous status and -1 to clear the position.\n",
    "\n",
    "  \"\"\"\n",
    "  close = data_frame['Adj Close']\n",
    "  win = 10 \n",
    "  ma = close.rolling(win).mean()\n",
    "  std = close.rolling(win).std()\n",
    "  up = ma + std\n",
    "  low = ma - std  \n",
    "  status = 0\n",
    "  signal = []\n",
    "  for k in range(close.shape[0]):\n",
    "    closek = close[k]\n",
    "    if (closek >  up[k]) and (status == 0): # buy\n",
    "      signal.append(1)\n",
    "      status = 1\n",
    "    elif (closek < low[k]) and (status == 1): # sell\n",
    "      signal.append(-1)\n",
    "      status = 0\n",
    "    else:\n",
    "      signal.append(0)\n",
    "\n",
    "  signal = pd.Series(data=signal, index=data_frame.index)\n",
    "  buy_sig = close[signal == 1]\n",
    "  sell_sig = close[signal == -1]\n",
    "  if is_plot:\n",
    "    plt.figure(figsize=(15,10))\n",
    "    plt.plot(close)\n",
    "    plt.plot(up)\n",
    "    plt.plot(low) \n",
    "    plt.plot(buy_sig, color=\"red\", marker=\"^\",linestyle=\"\")   \n",
    "    plt.plot(sell_sig, color=\"black\", marker=\"v\",linestyle=\"\")  \n",
    "    plt.legend([\"Adj Close\",\"High\", \"Low\", \"Buy\", \"Sell\"])\n",
    "    plt.title(\"Bollinger Bands\")\n",
    "    plt.grid()\n",
    "  return signal\n"
   ]
  },
  {
   "cell_type": "code",
   "execution_count": 5,
   "metadata": {
    "id": "ryMtqUOoQ6e_"
   },
   "outputs": [],
   "source": [
    "def rsi(data_frame, is_plot=False):\n",
    "  \"\"\"\n",
    "  Relative Signal Strength:\n",
    "  Inputs: \n",
    "          data_frame: pandas dataframe of the stock prices. It must have the \"Adj Close\" prices\n",
    "          is_plot: If true, this code will plot the Adj close price and show the buy and sell points.\n",
    "  output:\n",
    "          signal indicator: the series of indicators 1 to take the position, 0 for keep previous status and -1 to clear the position.\n",
    "\n",
    "  \"\"\"\n",
    "  window_length= 14\n",
    "  upv = 70\n",
    "  lowv= 40\n",
    "  close = data_frame['Adj Close']\n",
    "  delta = close.diff(1) \n",
    " \n",
    "  up, down = delta.copy(), delta.copy()\n",
    "  up[up < 0] = 0\n",
    "  down[down > 0] = 0\n",
    "  roll_up1 = up.ewm(span=window_length).mean()\n",
    "  roll_down1 = down.abs().ewm(span=window_length).mean()\n",
    "  # Calculate the RSI based on EWMA\n",
    "  RS1 = roll_up1 / roll_down1\n",
    "  RSI1 = 100.0 - (100.0 / (1.0 + RS1))\n",
    "  status = 0\n",
    "  signal = []\n",
    "  for k in range(close.shape[0]):\n",
    "    rsk = RSI1[k]\n",
    "    if (rsk < lowv) and (status == 0): # buy\n",
    "      signal.append(1)\n",
    "      status = 1\n",
    "    elif (rsk > upv) and (status == 1): # sell\n",
    "      signal.append(-1)\n",
    "      status = 0\n",
    "    else:\n",
    "      signal.append(0)\n",
    "\n",
    "  signal = pd.Series(data=signal, index=data_frame.index)\n",
    "  buy_sig = close[signal == 1]\n",
    "  sell_sig = close[signal == -1]\n",
    "\n",
    "  if is_plot:  \n",
    "    plt.figure(figsize=(15,10))\n",
    "    plt.subplot(2,1,1)\n",
    "    plt.plot(close)\n",
    "    plt.plot(buy_sig, color=\"red\", marker=\"^\",linestyle=\"\")   \n",
    "    plt.plot(sell_sig, color=\"black\", marker=\"v\",linestyle=\"\")  \n",
    "    plt.legend([\"Adj Close\",\"Buy\", \"Sell\"])\n",
    "    plt.grid()\n",
    "    plt.title(\"RSI\")\n",
    "    plt.subplot(2,1,2)\n",
    "    plt.plot(RSI1)\n",
    "    plt.plot(RSI1.index, upv*np.ones((close.shape[0],)),\"b--\")\n",
    "    plt.plot(RSI1.index, lowv*np.ones((close.shape[0],)),\"b--\")\n",
    "    plt.legend(['RSI', \"SELL Band\", \"BUY Band\"])\n",
    "    plt.grid()\n",
    "    plt.title(\"RSI Value\")\n",
    "  return signal\n"
   ]
  },
  {
   "cell_type": "markdown",
   "metadata": {
    "id": "ZrV9FP81RF1l"
   },
   "source": [
    "I have created a code to use the idicator to trade the stock."
   ]
  },
  {
   "cell_type": "code",
   "execution_count": 6,
   "metadata": {
    "id": "XL0qmYrnREhc"
   },
   "outputs": [],
   "source": [
    "def techicalTrading(stock_info, # dataframe of a stock\n",
    "                    indicator, # trade indicator\n",
    "                    initial_money=1000000 #Starting money\n",
    "                    ):\n",
    "  \"\"\"\n",
    "  Trader simulation:\n",
    "  Inputs: \n",
    "        stock_info: stock price data frames\n",
    "        indicator: time-series indicator: 1 for Buy, -1 for sell, 0 for nothing\n",
    "        initinal_money: initial money in the port. default 1M \n",
    "  output:\n",
    "        wealth: time-series money in the port\n",
    "  \"\"\"\n",
    "\n",
    "  num_dates, _ = stock_info.shape\n",
    "  status = \"NONE\" # Start with no poistion\n",
    "  stock= 0\n",
    "  money = initial_money\n",
    "  wealth = []\n",
    "  close = stock_info['Adj Close']\n",
    "  for k in range(num_dates):\n",
    "    indicatork = indicator[k]\n",
    "    if not np.isnan(indicatork): # if it is not NA\n",
    "      if (indicatork > 0) and ( status == \"NONE\"):\n",
    "        stock = money/close.values[k]\n",
    "        #print(f\"Buy at {close.values[k]}\")\n",
    "        money = 0\n",
    "        status = \"HOLD\"\n",
    "      elif (indicatork < 0) and ( status == \"HOLD\"):\n",
    "        money = stock * close.values[k]\n",
    "        stock =  0\n",
    "        #print(f\"Sell at {close.values[k]}\")\n",
    "        status = \"NONE\"\n",
    "    cur_wealth = money + stock * close.values[k]\n",
    "    wealth.append(cur_wealth)\n",
    "  wealth = pd.Series(data=wealth, index=stock_info.index)  \n",
    "  return wealth \n",
    "\n"
   ]
  },
  {
   "cell_type": "markdown",
   "metadata": {},
   "source": [
    "# Question 1"
   ]
  },
  {
   "cell_type": "markdown",
   "metadata": {
    "id": "ydxrouaPUn5w"
   },
   "source": [
    "Question 1: Use dataset of SET50 list in 2020 (https://www.set.or.th/th/market/files/constituents/SET50_100_H2_2020_revised.pdf) Compute the return in 2020 from 2020-01-01 to 2020-12-31. Find out"
   ]
  },
  {
   "cell_type": "code",
   "execution_count": 7,
   "metadata": {
    "id": "KvvC_TfLUnVU"
   },
   "outputs": [],
   "source": [
    "set50 = ['ADVANC','AOT','AWC','BBL','BDMS','BEM','BGRIM','BH','BJC','BPP',\n",
    "    'BTS','CBG','CPALL','CPF','CPN','CRC','DTAC','EA','EGCO','GLOBAL',\n",
    "    'GPSC','GULF','HMPRO','INTUCH','IRPC','IVL','KBANK','KTB','KTC','LH',\n",
    "    'MINT','MTC','OSP','PTT','PTTEP','PTTGC','RATCH','SAWAD','SCB','SCC',\n",
    "    'SCGP','TISCO','TMB','TOA','TOP','TRUE','TTW','TU','VGI','WHA']\n",
    "stocks = pd.Series(set50)+'.bk'\n",
    "df = data.DataReader(stocks, \"yahoo\", '2020-01-01', '2020-12-31')"
   ]
  },
  {
   "cell_type": "code",
   "execution_count": 8,
   "metadata": {},
   "outputs": [
    {
     "output_type": "stream",
     "name": "stdout",
     "text": [
      "Average annual return is 0.411522633744856%\nAverage annual STD is 6.401789788520183\n"
     ]
    }
   ],
   "source": [
    "BAH = buyAndHold(df, is_plot=False)\n",
    "avgBAH = np.mean(BAH)\n",
    "stdBAH = np.std(BAH)\n",
    "print(f\"Average annual return is {avgBAH*100.0}%\")\n",
    "print(f\"Average annual STD is {stdBAH*100.0}\")"
   ]
  },
  {
   "cell_type": "code",
   "execution_count": 9,
   "metadata": {},
   "outputs": [
    {
     "output_type": "stream",
     "name": "stdout",
     "text": [
      "Average annual return is 0.0%\nAverage annual STD is 43.4481560052522\n"
     ]
    }
   ],
   "source": [
    "ds = df.stack().reset_index()\n",
    "MAC = movingavg(ds, is_plot=False)\n",
    "avgMAC = np.mean(MAC)\n",
    "stdMAC = np.std(MAC)\n",
    "print(f\"Average annual return is {avgMAC*100.0}%\")\n",
    "print(f\"Average annual STD is {stdMAC*100.0}\")"
   ]
  },
  {
   "cell_type": "code",
   "execution_count": 10,
   "metadata": {},
   "outputs": [
    {
     "output_type": "stream",
     "name": "stdout",
     "text": [
      "Average annual return is 0.008389965601141035%\nAverage annual STD is 2.4234078338727754\n"
     ]
    }
   ],
   "source": [
    "BoB = bollinger(ds, is_plot=False)\n",
    "avgBoB = np.mean(BoB)\n",
    "stdBoB = np.std(BoB)\n",
    "print(f\"Average annual return is {avgBoB*100.0}%\")\n",
    "print(f\"Average annual STD is {stdBoB*100.0}\")"
   ]
  },
  {
   "cell_type": "code",
   "execution_count": 11,
   "metadata": {},
   "outputs": [
    {
     "output_type": "stream",
     "name": "stdout",
     "text": [
      "Average annual return is 0.0%\nAverage annual STD is 1.2953737376634618\n"
     ]
    },
    {
     "output_type": "display_data",
     "data": {
      "text/plain": "<Figure size 1080x1080 with 0 Axes>"
     },
     "metadata": {}
    }
   ],
   "source": [
    "plt.figure(figsize=(15,15))\n",
    "RSI = rsi(ds, is_plot=False)\n",
    "avgRSI = np.mean(RSI)\n",
    "stdRSI = np.std(RSI)\n",
    "print(f\"Average annual return is {avgRSI*100.0}%\")\n",
    "print(f\"Average annual STD is {stdRSI*100.0}\")"
   ]
  },
  {
   "cell_type": "markdown",
   "metadata": {},
   "source": [
    "# Question 2"
   ]
  },
  {
   "cell_type": "markdown",
   "metadata": {
    "id": "HMdhECkgV2Hi"
   },
   "source": [
    "Question 2: Compute 95% confidence interval of the average annual return for each strategies."
   ]
  },
  {
   "cell_type": "code",
   "execution_count": 12,
   "metadata": {},
   "outputs": [],
   "source": [
    "import scipy.stats as st\n",
    "\n",
    "adj_close = df[\"Adj Close\"]\n",
    "df_ret = adj_close.pct_change(1).dropna()\n",
    "num_df = df_ret.count()\n",
    "df_mean = df_ret.mean()\n",
    "df_std = df_ret.std()"
   ]
  },
  {
   "cell_type": "code",
   "execution_count": 13,
   "metadata": {},
   "outputs": [
    {
     "output_type": "stream",
     "name": "stdout",
     "text": [
      "95% Confidence interval for Buy and hold is (-0.003974312090940128, 0.012204764765837248).\n"
     ]
    }
   ],
   "source": [
    "numBAH = BAH.count()\n",
    "sttBAH = st.t.interval(0.95, df=numBAH-1, loc=avgBAH, scale=stdBAH/np.sqrt(numBAH))\n",
    "print(f\"95% Confidence interval for Buy and hold is {sttBAH}.\")"
   ]
  },
  {
   "cell_type": "code",
   "execution_count": 14,
   "metadata": {},
   "outputs": [
    {
     "output_type": "stream",
     "name": "stdout",
     "text": [
      "95% Confidence interval for moving average crossing is (-0.0078008807393501155, 0.0078008807393501155).\n"
     ]
    }
   ],
   "source": [
    "numMAC = MAC.count()\n",
    "sttMAC = st.t.interval(0.95, df=numMAC-1, loc=avgMAC, scale=stdMAC/np.sqrt(numMAC))\n",
    "print(f\"95% Confidence interval for moving average crossing is {sttMAC}.\")"
   ]
  },
  {
   "cell_type": "code",
   "execution_count": 15,
   "metadata": {},
   "outputs": [
    {
     "output_type": "stream",
     "name": "stdout",
     "text": [
      "95% Confidence interval for Bollinger Band is (-0.0003512100755169664, 0.0005190093875397871).\n"
     ]
    }
   ],
   "source": [
    "numBoB = BoB.count()\n",
    "sttBoB = st.t.interval(0.95, df=numBoB-1, loc=avgBoB, scale=stdBoB/np.sqrt(numBoB))\n",
    "print(f\"95% Confidence interval for Bollinger Band is {sttBoB}.\")"
   ]
  },
  {
   "cell_type": "code",
   "execution_count": 16,
   "metadata": {
    "scrolled": true
   },
   "outputs": [
    {
     "output_type": "stream",
     "name": "stdout",
     "text": [
      "95% Confidence interval for RSI is (-0.00023257732823407567, 0.00023257732823407567).\n"
     ]
    }
   ],
   "source": [
    "numRSI = RSI.count()\n",
    "sttRSI = st.t.interval(0.95, df=numRSI-1, loc=avgRSI, scale=stdRSI/np.sqrt(numRSI))\n",
    "print(f\"95% Confidence interval for RSI is {sttRSI}.\")"
   ]
  },
  {
   "cell_type": "markdown",
   "metadata": {},
   "source": [
    "# Question 3"
   ]
  },
  {
   "cell_type": "markdown",
   "metadata": {
    "id": "FcRW3qZVXEVd"
   },
   "source": [
    "Question 3: Use the t-test to make the conclusion whether any of these strategies yield positive return."
   ]
  },
  {
   "cell_type": "code",
   "execution_count": 17,
   "metadata": {
    "id": "Y7zeY53lgerc"
   },
   "outputs": [
    {
     "output_type": "stream",
     "name": "stdout",
     "text": [
      "Buy and Hold has t-score: 1.000 and p-value 0.3183. Can it make profit? no\n"
     ]
    }
   ],
   "source": [
    "from scipy.stats import ttest_1samp\n",
    "t_score, p_value = ttest_1samp(BAH, popmean=0)\n",
    "print(f\"Buy and Hold has t-score: {t_score:2.3f} and p-value {p_value:0.4f}. Can it make profit? no\")"
   ]
  },
  {
   "cell_type": "code",
   "execution_count": 18,
   "metadata": {},
   "outputs": [
    {
     "output_type": "stream",
     "name": "stdout",
     "text": [
      "Moving average crossing has t-score: 0.000 and p-value 1.0000. Can it make profit? no\n"
     ]
    }
   ],
   "source": [
    "t_score, p_value = ttest_1samp(MAC, popmean=0)\n",
    "print(f\"Moving average crossing has t-score: {t_score:2.3f} and p-value {p_value:0.4f}. Can it make profit? no\")"
   ]
  },
  {
   "cell_type": "code",
   "execution_count": 19,
   "metadata": {},
   "outputs": [
    {
     "output_type": "stream",
     "name": "stdout",
     "text": [
      "Bollinger Band has t-score: 0.378 and p-value 0.7055. Can it make profit? no\n"
     ]
    }
   ],
   "source": [
    "t_score, p_value = ttest_1samp(BoB, popmean=0)\n",
    "print(f\"Bollinger Band has t-score: {t_score:2.3f} and p-value {p_value:0.4f}. Can it make profit? no\")"
   ]
  },
  {
   "cell_type": "code",
   "execution_count": 20,
   "metadata": {},
   "outputs": [
    {
     "output_type": "stream",
     "name": "stdout",
     "text": [
      "RSI has t-score: 0.000 and p-value 1.0000. Can it make profit? no\n"
     ]
    }
   ],
   "source": [
    "t_score, p_value = ttest_1samp(RSI, popmean=0)\n",
    "print(f\"RSI has t-score: {t_score:2.3f} and p-value {p_value:0.4f}. Can it make profit? no\")"
   ]
  },
  {
   "cell_type": "markdown",
   "metadata": {},
   "source": [
    "# Question 4"
   ]
  },
  {
   "cell_type": "markdown",
   "metadata": {
    "id": "fc-t2i40giQF"
   },
   "source": [
    "Question 4: Next, we compare againts Buy-and-Hold startegy using t-score. Here,\n",
    "\n",
    "H0 : A strategy is the same or worst than buy-and-hold\n",
    "\n",
    "H1: A strategy is better than buy and hold:\n"
   ]
  },
  {
   "cell_type": "code",
   "execution_count": 21,
   "metadata": {
    "id": "8URJb1ZMgh2U"
   },
   "outputs": [
    {
     "output_type": "stream",
     "name": "stdout",
     "text": [
      "Moving Average vs Buy and Hold: t-score 1.960159091724343 p-value 1.0032626132081521. Is moving average better than buy and hold? no\n"
     ]
    }
   ],
   "source": [
    "from scipy.stats import t\n",
    "t_score = t.ppf(1-0.025, numMAC+numBAH-2)\n",
    "SP2 = ((numMAC-1)*stdMAC**2+(numBAH-1)*stdBAH**2)/numMAC+numBAH-2\n",
    "scales = np.sqrt(SP2*(1/numMAC+1/numBAH))\n",
    "p_val = (1-t.cdf(x=avgMAC-avgBAH, loc=0, scale=scales, df=numMAC+numBAH-2))*2.0\n",
    "print(f\"Moving Average vs Buy and Hold: t-score {t_score} p-value {p_val}. Is moving average better than buy and hold? no\")"
   ]
  },
  {
   "cell_type": "code",
   "execution_count": 22,
   "metadata": {},
   "outputs": [
    {
     "output_type": "stream",
     "name": "stdout",
     "text": [
      "Bolling Band vs Buy and Hold: t-score 1.960159091724343 p-value 0.9968026558473501. Is bolling band better than buy and hold? no\n"
     ]
    }
   ],
   "source": [
    "t_score = t.ppf(1-0.025, numBoB+numBAH-2)\n",
    "SP2 = ((numBoB-1)*stdBoB**2+(numBAH-1)*stdBAH**2)/numBoB+numBAH-2\n",
    "scales = np.sqrt(SP2*(1/numBoB+1/numBAH))\n",
    "p_val = t.cdf(x=avgBoB-avgBAH, loc=0, scale=scales, df=numBoB+numBAH-2)*2.0\n",
    "print(f\"Bolling Band vs Buy and Hold: t-score {t_score} p-value {p_val}. Is bolling band better than buy and hold? no\")"
   ]
  },
  {
   "cell_type": "code",
   "execution_count": 23,
   "metadata": {},
   "outputs": [
    {
     "output_type": "stream",
     "name": "stdout",
     "text": [
      "RSI vs Buy and Hold: t-score 1.960159091724343 p-value 0.99673611049767. Is RSI better than buy and hold? no\n"
     ]
    }
   ],
   "source": [
    "t_score = t.ppf(1-0.025, numRSI+numBAH-2)\n",
    "SP2 = ((numRSI-1)*stdRSI**2+(numBAH-1)*stdBAH**2)/numRSI+numBAH-2\n",
    "scales = np.sqrt(SP2*(1/numRSI+1/numBAH))\n",
    "p_val = t.cdf(x=avgRSI-avgBAH, loc=0, scale=scales, df=numRSI+numBAH-2)*2.0\n",
    "print(f\"RSI vs Buy and Hold: t-score {t_score} p-value {p_val}. Is RSI better than buy and hold? no\")"
   ]
  }
 ],
 "metadata": {
  "colab": {
   "name": "AnyPositiveReturnInSet50.ipynb",
   "provenance": []
  },
  "kernelspec": {
   "name": "python3",
   "display_name": "Python 3.9.1 64-bit",
   "metadata": {
    "interpreter": {
     "hash": "ac2eaa0ea0ebeafcc7822e65e46aa9d4f966f30b695406963e145ea4a91cd4fc"
    }
   }
  },
  "language_info": {
   "codemirror_mode": {
    "name": "ipython",
    "version": 3
   },
   "file_extension": ".py",
   "mimetype": "text/x-python",
   "name": "python",
   "nbconvert_exporter": "python",
   "pygments_lexer": "ipython3",
   "version": "3.9.1-final"
  }
 },
 "nbformat": 4,
 "nbformat_minor": 1
}