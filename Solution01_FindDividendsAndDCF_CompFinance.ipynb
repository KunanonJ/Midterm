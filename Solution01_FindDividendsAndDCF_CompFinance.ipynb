{
  "nbformat": 4,
  "nbformat_minor": 0,
  "metadata": {
    "colab": {
      "name": "FindDividendsAndDCF_CompFinanceAssignment01.ipynb",
      "provenance": []
    },
    "kernelspec": {
      "name": "python3",
      "display_name": "Python 3"
    }
  },
  "cells": [
    {
      "cell_type": "markdown",
      "metadata": {
        "id": "F3bw9X6-6Txb"
      },
      "source": [
        "# Assignment 1\n",
        "\n"
      ]
    },
    {
      "cell_type": "markdown",
      "metadata": {
        "id": "fTAuF5W48MVH"
      },
      "source": [
        "In this assignment, we will learn how to download data from the Yahoo Finance dataset. We will learn how to plot and perform some simple analysis of the datase."
      ]
    },
    {
      "cell_type": "markdown",
      "metadata": {
        "id": "IelHD0YB8Qht"
      },
      "source": [
        "This code is created by Dr. Teerasit Kasetkasem on December 8, 2020"
      ]
    },
    {
      "cell_type": "markdown",
      "metadata": {
        "id": "srxwu3rd8bTU"
      },
      "source": [
        "## Download stock price from Yahoo Finance"
      ]
    },
    {
      "cell_type": "markdown",
      "metadata": {
        "id": "SfNhqS-d8lZK"
      },
      "source": [
        "There are approaches to download stock price from Yahoo Finance. Here, We use the panadas_datareader library to download."
      ]
    },
    {
      "cell_type": "code",
      "metadata": {
        "id": "733Lwtws6gno"
      },
      "source": [
        "import pandas as pd\n",
        "import pandas_datareader as reader\n",
        "import numpy as np\n",
        "import matplotlib.pyplot as plt"
      ],
      "execution_count": 1,
      "outputs": []
    },
    {
      "cell_type": "code",
      "metadata": {
        "colab": {
          "base_uri": "https://localhost:8080/",
          "height": 235
        },
        "id": "Z7wCHCvh9Gq8",
        "outputId": "d939b666-1130-4c41-ee5c-7a82de86f8ff"
      },
      "source": [
        "apple = reader.DataReader(\"AAPL\", \"yahoo\",\"2010-01-01\",\"2020-12-31\") #load Apple Inc. (AAPL) from yahoo finance from 2010/01/01 to 2020/12/31\n",
        "apple.head() # print first few heading rows. "
      ],
      "execution_count": null,
      "outputs": [
        {
          "output_type": "execute_result",
          "data": {
            "text/html": [
              "<div>\n",
              "<style scoped>\n",
              "    .dataframe tbody tr th:only-of-type {\n",
              "        vertical-align: middle;\n",
              "    }\n",
              "\n",
              "    .dataframe tbody tr th {\n",
              "        vertical-align: top;\n",
              "    }\n",
              "\n",
              "    .dataframe thead th {\n",
              "        text-align: right;\n",
              "    }\n",
              "</style>\n",
              "<table border=\"1\" class=\"dataframe\">\n",
              "  <thead>\n",
              "    <tr style=\"text-align: right;\">\n",
              "      <th></th>\n",
              "      <th>High</th>\n",
              "      <th>Low</th>\n",
              "      <th>Open</th>\n",
              "      <th>Close</th>\n",
              "      <th>Volume</th>\n",
              "      <th>Adj Close</th>\n",
              "    </tr>\n",
              "    <tr>\n",
              "      <th>Date</th>\n",
              "      <th></th>\n",
              "      <th></th>\n",
              "      <th></th>\n",
              "      <th></th>\n",
              "      <th></th>\n",
              "      <th></th>\n",
              "    </tr>\n",
              "  </thead>\n",
              "  <tbody>\n",
              "    <tr>\n",
              "      <th>2010-01-04</th>\n",
              "      <td>7.660714</td>\n",
              "      <td>7.585000</td>\n",
              "      <td>7.622500</td>\n",
              "      <td>7.643214</td>\n",
              "      <td>493729600.0</td>\n",
              "      <td>6.539882</td>\n",
              "    </tr>\n",
              "    <tr>\n",
              "      <th>2010-01-05</th>\n",
              "      <td>7.699643</td>\n",
              "      <td>7.616071</td>\n",
              "      <td>7.664286</td>\n",
              "      <td>7.656428</td>\n",
              "      <td>601904800.0</td>\n",
              "      <td>6.551187</td>\n",
              "    </tr>\n",
              "    <tr>\n",
              "      <th>2010-01-06</th>\n",
              "      <td>7.686786</td>\n",
              "      <td>7.526786</td>\n",
              "      <td>7.656428</td>\n",
              "      <td>7.534643</td>\n",
              "      <td>552160000.0</td>\n",
              "      <td>6.446983</td>\n",
              "    </tr>\n",
              "    <tr>\n",
              "      <th>2010-01-07</th>\n",
              "      <td>7.571429</td>\n",
              "      <td>7.466072</td>\n",
              "      <td>7.562500</td>\n",
              "      <td>7.520714</td>\n",
              "      <td>477131200.0</td>\n",
              "      <td>6.435065</td>\n",
              "    </tr>\n",
              "    <tr>\n",
              "      <th>2010-01-08</th>\n",
              "      <td>7.571429</td>\n",
              "      <td>7.466429</td>\n",
              "      <td>7.510714</td>\n",
              "      <td>7.570714</td>\n",
              "      <td>447610800.0</td>\n",
              "      <td>6.477847</td>\n",
              "    </tr>\n",
              "  </tbody>\n",
              "</table>\n",
              "</div>"
            ],
            "text/plain": [
              "                High       Low      Open     Close       Volume  Adj Close\n",
              "Date                                                                      \n",
              "2010-01-04  7.660714  7.585000  7.622500  7.643214  493729600.0   6.539882\n",
              "2010-01-05  7.699643  7.616071  7.664286  7.656428  601904800.0   6.551187\n",
              "2010-01-06  7.686786  7.526786  7.656428  7.534643  552160000.0   6.446983\n",
              "2010-01-07  7.571429  7.466072  7.562500  7.520714  477131200.0   6.435065\n",
              "2010-01-08  7.571429  7.466429  7.510714  7.570714  447610800.0   6.477847"
            ]
          },
          "metadata": {
            "tags": []
          },
          "execution_count": 26
        }
      ]
    },
    {
      "cell_type": "markdown",
      "metadata": {
        "id": "_84GZx-6D7bm"
      },
      "source": [
        "In this exercise, the goal is to find the dividends that Apple has issued for the last 10 years."
      ]
    },
    {
      "cell_type": "code",
      "metadata": {
        "colab": {
          "base_uri": "https://localhost:8080/",
          "height": 894
        },
        "id": "38pvdbm9-Fqg",
        "outputId": "036bb8d0-3815-49d3-aa63-c5d07ad7ebe9"
      },
      "source": [
        "adj_close = apple['Adj Close'] # adjusted close prices\n",
        "pct_adj_close = adj_close.pct_change(1) # find daily percent changes \n",
        "close = apple['Close'] # close price\n",
        "pct_close = close.pct_change(1) # find daily percent changes \n",
        "plt.figure(figsize=(15,15))\n",
        "plt.plot(pct_close- pct_adj_close, \"o\")\n",
        "plt.grid()\n",
        "plt.xlabel(\"Date\")\n",
        "plt.ylabel(\"Difference in Change\")"
      ],
      "execution_count": null,
      "outputs": [
        {
          "output_type": "execute_result",
          "data": {
            "text/plain": [
              "Text(0, 0.5, 'Difference in Change')"
            ]
          },
          "metadata": {
            "tags": []
          },
          "execution_count": 53
        },
        {
          "output_type": "display_data",
          "data": {
            "image/png": "[encoded data removed]",
            "text/plain": [
              "<Figure size 1080x1080 with 1 Axes>"
            ]
          },
          "metadata": {
            "tags": [],
            "needs_background": "light"
          }
        }
      ]
    },
    {
      "cell_type": "markdown",
      "metadata": {
        "id": "YvGEQ3UsJkZV"
      },
      "source": [
        "From the graph above, it is clear that, most of the times, normalized changes in the close and adj. close prices are similar. However, there are few cases where changes in adj. close prices are higher that close price. This is the location where dividens are paid to share holders."
      ]
    },
    {
      "cell_type": "code",
      "metadata": {
        "colab": {
          "base_uri": "https://localhost:8080/"
        },
        "id": "qKVLFzzDJfWq",
        "outputId": "16a33326-2cdb-453d-adc1-de1afb5cb864"
      },
      "source": [
        "delta = pct_close- pct_adj_close \n",
        "threshold = -0.001 # We pick threshold = -0.001 from the graph.\n",
        "delta = delta[delta<threshold] # screen only the location where differences is less than -0.001\n",
        "print(\"The dividens are paid out on:\")\n",
        "for date in delta.index:\n",
        "  print(date.date())"
      ],
      "execution_count": null,
      "outputs": [
        {
          "output_type": "stream",
          "text": [
            "The dividens are paid out on:\n",
            "2012-08-09\n",
            "2012-11-07\n",
            "2013-02-07\n",
            "2013-05-09\n",
            "2013-08-08\n",
            "2013-11-06\n",
            "2014-02-06\n",
            "2014-05-08\n",
            "2014-08-07\n",
            "2014-11-06\n",
            "2015-02-05\n",
            "2015-05-07\n",
            "2015-08-06\n",
            "2015-11-05\n",
            "2016-02-04\n",
            "2016-05-05\n",
            "2016-08-04\n",
            "2016-11-03\n",
            "2017-02-09\n",
            "2017-05-11\n",
            "2017-08-10\n",
            "2017-11-10\n",
            "2018-02-09\n",
            "2018-05-11\n",
            "2018-08-10\n",
            "2018-11-08\n",
            "2019-02-08\n",
            "2019-05-10\n",
            "2019-08-09\n",
            "2019-11-07\n",
            "2020-02-07\n",
            "2020-05-08\n",
            "2020-08-07\n",
            "2020-11-06\n"
          ],
          "name": "stdout"
        }
      ]
    },
    {
      "cell_type": "markdown",
      "metadata": {
        "id": "ybS_l-OtMeGF"
      },
      "source": [
        "Next, we try to find the dividends payout by Apples."
      ]
    },
    {
      "cell_type": "code",
      "metadata": {
        "colab": {
          "base_uri": "https://localhost:8080/"
        },
        "id": "CldTsrGCMC6b",
        "outputId": "5f6ea734-af03-4264-9ab8-71c2fd7f9bf8"
      },
      "source": [
        "dividends =[]\n",
        "for date in delta.index:\n",
        "  k = np.nonzero(apple.index==date)[0][0] # find the row where dividends have been paid.\n",
        "  close_before = close[k-1]\n",
        "  pct_close_div = pct_close[k]\n",
        "  pct_adj_div = pct_adj_close[k]\n",
        "  dividend = close_before * ( pct_adj_div - pct_close_div)\n",
        "  dividends.append(dividend)\n",
        "dividends = pd.Series(dividends, index=delta.index)\n",
        "print(dividends)"
      ],
      "execution_count": null,
      "outputs": [
        {
          "output_type": "stream",
          "text": [
            "Date\n",
            "2012-08-09    0.095181\n",
            "2012-11-07    0.091020\n",
            "2013-02-07    0.097456\n",
            "2013-05-09    0.107979\n",
            "2013-08-08    0.108710\n",
            "2013-11-06    0.108620\n",
            "2014-02-06    0.109559\n",
            "2014-05-08    0.117290\n",
            "2014-08-07    0.117481\n",
            "2014-11-06    0.117834\n",
            "2015-02-05    0.118339\n",
            "2015-05-07    0.130805\n",
            "2015-08-06    0.130282\n",
            "2015-11-05    0.129399\n",
            "2016-02-04    0.131042\n",
            "2016-05-05    0.141927\n",
            "2016-08-04    0.143387\n",
            "2016-11-03    0.140974\n",
            "2017-02-09    0.143529\n",
            "2017-05-11    0.158858\n",
            "2017-08-10    0.152495\n",
            "2017-11-10    0.156974\n",
            "2018-02-09    0.159427\n",
            "2018-05-11    0.181813\n",
            "2018-08-10    0.181950\n",
            "2018-11-08    0.181865\n",
            "2019-02-08    0.182718\n",
            "2019-05-10    0.189834\n",
            "2019-08-09    0.190913\n",
            "2019-11-07    0.194722\n",
            "2020-02-07    0.189884\n",
            "2020-05-08    0.846399\n",
            "2020-08-07    0.200337\n",
            "2020-11-06    0.204769\n",
            "dtype: float64\n"
          ],
          "name": "stdout"
        }
      ]
    },
    {
      "cell_type": "markdown",
      "metadata": {
        "id": "EZrfblMQPSj1"
      },
      "source": [
        "\n",
        "When comparing to the data given in [Adj. dividends](https://www.dividend.com/stocks/technology/hardware/communications-equipment/aapl-apple-inc/), we found that the dividend on 2020-05-08 is significantly differences from computed values. Here, computed values is 0.846 whereas the actual dividend is 0.205. This result shows the unreliability of Yahoo Finance Dataset."
      ]
    },
    {
      "cell_type": "code",
      "metadata": {
        "id": "QKvAqyGZUyA_"
      },
      "source": [
        "dividends['2020-05-08'] = 0.205 #Fix the error from yahoo finance"
      ],
      "execution_count": null,
      "outputs": []
    },
    {
      "cell_type": "code",
      "metadata": {
        "colab": {
          "base_uri": "https://localhost:8080/"
        },
        "id": "_MKTj6DcR6K0",
        "outputId": "3294ffa4-04e8-4739-93bd-baf33f038ba5"
      },
      "source": [
        "yearly_dividends = []\n",
        "for y in range(2015,2021): # Find dividens growth rate in the last 5 years.\n",
        "  dividend_year = dividends[dividends.index.year == y] #filter only one year\n",
        "  yearly_dividends.append(dividend_year.sum()) # find total dividens per year\n",
        "yearly_dividends = pd.Series(yearly_dividends, index=np.arange(2015,2021))\n",
        "dividend_growth = yearly_dividends.pct_change(1).dropna()\n",
        "print(\"Yearly dividends: \")\n",
        "print(yearly_dividends)\n",
        "print(\"Dividend growth rate: \")\n",
        "print(dividend_growth)\n",
        "g = dividend_growth.median()\n",
        "print(f\"Dividends growth rate is {g*100} %.\")"
      ],
      "execution_count": null,
      "outputs": [
        {
          "output_type": "stream",
          "text": [
            "Yearly dividends: \n",
            "2015    0.508825\n",
            "2016    0.557330\n",
            "2017    0.611855\n",
            "2018    0.705055\n",
            "2019    0.758187\n",
            "2020    0.799990\n",
            "dtype: float64\n",
            "Dividend growth rate: \n",
            "2016    0.095326\n",
            "2017    0.097834\n",
            "2018    0.152323\n",
            "2019    0.075359\n",
            "2020    0.055135\n",
            "dtype: float64\n",
            "Dividends growth rate is 9.53255784880227 %.\n"
          ],
          "name": "stdout"
        }
      ]
    },
    {
      "cell_type": "markdown",
      "metadata": {
        "id": "RQ21HBqkVi5j"
      },
      "source": [
        "Now, we can use discount factor to compute the stock price"
      ]
    },
    {
      "cell_type": "code",
      "metadata": {
        "id": "_-8vJzigViKi",
        "colab": {
          "base_uri": "https://localhost:8080/"
        },
        "outputId": "15aa9348-5fa4-4b9c-f588-a61edc9ed152"
      },
      "source": [
        "r = 0.1 # Assume that we can find the risk-free security at 10%\n",
        "S_apple = yearly_dividends[2020]/(r - g) # D1/(r - g)\n",
        "print(f\"The current apple stock price is {adj_close.iloc[-1]}.\") # \n",
        "print(f\"From the Discounted Cash Flow model, Apple Stock price is {S_apple}.\")\n"
      ],
      "execution_count": null,
      "outputs": [
        {
          "output_type": "stream",
          "text": [
            "The current apple stock price is 123.75.\n",
            "From the Discounted Cash Flow model, Apple Stock price is 171.14209144610632.\n"
          ],
          "name": "stdout"
        }
      ]
    },
    {
      "cell_type": "markdown",
      "metadata": {
        "id": "eHl6_f94QTkk"
      },
      "source": [
        "## Class work"
      ]
    },
    {
      "cell_type": "markdown",
      "metadata": {
        "id": "S5fTtOL9QfEC"
      },
      "source": [
        "**Follow the above steps to find dividends, dividend growth rate, and DCF of  5 stocks in SET50, namely**\n",
        "\n",
        "> Indented block\n",
        "\n",
        "\n",
        "\n",
        "\n",
        "1.  ADVANC\n",
        "2.  KBANK\n",
        "3.  PTT\n",
        "4.  BDMS \n",
        "5.  BEM\n",
        "\n",
        "\n",
        "\n",
        "---\n",
        "\n",
        "\n",
        "**Here, you will use only the data from the past 5 years. **\n",
        "\n",
        "\n"
      ]
    },
    {
      "cell_type": "markdown",
      "metadata": {
        "id": "jn1I1AD0I_5W"
      },
      "source": [
        "# **Solution:**"
      ]
    },
    {
      "cell_type": "code",
      "metadata": {
        "id": "jZoiZaqbIbp2"
      },
      "source": [
        "stocks = [\"ADVANC\", \"KBANK\", \"PTT\", \"BDMS\", \"BEM\"]\r\n",
        "data_frames = dict()\r\n",
        "for stock in stocks:\r\n",
        "  data_frames[stock] = reader.DataReader(f\"{stock}.BK\", \"yahoo\",\"2016-01-01\",\"2020-12-31\") #load data from 2016-01-01 to 2020-12-31"
      ],
      "execution_count": 3,
      "outputs": []
    },
    {
      "cell_type": "code",
      "metadata": {
        "colab": {
          "base_uri": "https://localhost:8080/",
          "height": 1000
        },
        "id": "HYMFmxUsJKG_",
        "outputId": "631a4354-e3e2-4a29-f9d2-36814e9070a6"
      },
      "source": [
        "plt.figure(figsize=(10,50))\r\n",
        "for k in range(5):\r\n",
        "  plt.subplot(5,1,k + 1)\r\n",
        "  stock = stocks[k]\r\n",
        "  adj_close = data_frames[stock]['Adj Close'] # adjusted close prices\r\n",
        "  pct_adj_close = adj_close.pct_change(1) # find daily percent changes \r\n",
        "  close = data_frames[stock]['Close'] # close price\r\n",
        "  pct_close = close.pct_change(1) # find daily percent changes   \r\n",
        "  plt.plot(pct_close- pct_adj_close, \"o\")\r\n",
        "  plt.grid()\r\n",
        "  plt.title(f\"{stock}\")\r\n",
        "  plt.xlabel(\"Date\")\r\n",
        "  plt.ylabel(\"Difference in Change\")"
      ],
      "execution_count": 5,
      "outputs": [
        {
          "output_type": "display_data",
          "data": {
            "image/png": "[encoded data removed]",
            "text/plain": [
              "<Figure size 720x3600 with 5 Axes>"
            ]
          },
          "metadata": {
            "tags": [],
            "needs_background": "light"
          }
        }
      ]
    },
    {
      "cell_type": "code",
      "metadata": {
        "colab": {
          "base_uri": "https://localhost:8080/"
        },
        "id": "qnlpPR9RJvqM",
        "outputId": "5dea11f4-92bf-472d-8db4-4d67ebcefa17"
      },
      "source": [
        "for stock in stocks:\r\n",
        "  adj_close = data_frames[stock]['Adj Close'] # adjusted close prices\r\n",
        "  pct_adj_close = adj_close.pct_change(1) # find daily percent changes \r\n",
        "  close = data_frames[stock]['Close'] # close price\r\n",
        "  pct_close = close.pct_change(1) # find daily percent changes   \r\n",
        "  delta = pct_close- pct_adj_close \r\n",
        "  threshold = -0.001 # We pick threshold = -0.001 from the graph.\r\n",
        "  delta = delta[delta<threshold] # screen only the location where differences is less than -0.001\r\n",
        "  print(f\"The dividens of {stock} are paid out on:\")\r\n",
        "  for date in delta.index:\r\n",
        "    print(\"      \", date.date())"
      ],
      "execution_count": 6,
      "outputs": [
        {
          "output_type": "stream",
          "text": [
            "The dividens of ADVANC are paid out on:\n",
            "       2016-03-31\n",
            "       2016-08-15\n",
            "       2017-04-05\n",
            "       2017-08-07\n",
            "       2018-04-05\n",
            "       2018-08-15\n",
            "       2019-02-20\n",
            "       2019-08-16\n",
            "       2020-02-19\n",
            "       2020-08-19\n",
            "The dividens of KBANK are paid out on:\n",
            "       2016-04-05\n",
            "       2016-09-06\n",
            "       2017-04-07\n",
            "       2017-09-12\n",
            "       2018-04-11\n",
            "       2018-09-12\n",
            "       2019-04-11\n",
            "       2019-09-11\n",
            "       2020-04-09\n",
            "The dividens of PTT are paid out on:\n",
            "       2016-03-03\n",
            "       2016-08-31\n",
            "       2017-03-29\n",
            "       2017-08-31\n",
            "       2018-03-06\n",
            "       2018-10-11\n",
            "       2019-03-06\n",
            "       2019-10-10\n",
            "       2020-03-04\n",
            "       2020-09-30\n",
            "The dividens of BDMS are paid out on:\n",
            "       2016-03-29\n",
            "       2016-09-13\n",
            "       2017-03-13\n",
            "       2017-09-12\n",
            "       2018-03-14\n",
            "       2018-09-12\n",
            "       2019-03-14\n",
            "       2019-09-11\n",
            "       2020-03-11\n",
            "The dividens of BEM are paid out on:\n",
            "       2016-04-11\n",
            "       2016-09-12\n",
            "       2017-04-19\n",
            "       2017-09-05\n",
            "       2018-04-27\n",
            "       2018-09-04\n",
            "       2019-05-07\n",
            "       2019-08-22\n",
            "       2020-04-22\n",
            "       2020-05-05\n"
          ],
          "name": "stdout"
        }
      ]
    },
    {
      "cell_type": "code",
      "metadata": {
        "colab": {
          "base_uri": "https://localhost:8080/"
        },
        "id": "7oOWv6iFKX_w",
        "outputId": "c8dbac95-7d59-424b-86de-d8cb42224330"
      },
      "source": [
        "for stock in stocks:\r\n",
        "  adj_close = data_frames[stock]['Adj Close'] # adjusted close prices\r\n",
        "  pct_adj_close = adj_close.pct_change(1) # find daily percent changes \r\n",
        "  close = data_frames[stock]['Close'] # close price\r\n",
        "  pct_close = close.pct_change(1) # find daily percent changes   \r\n",
        "  delta = pct_close- pct_adj_close \r\n",
        "  threshold = -0.001 # We pick threshold = -0.001 from the graph.\r\n",
        "  delta = delta[delta<threshold] # screen only the location where differences is less than -0.001\r\n",
        "  dividends =[]\r\n",
        "  for date in delta.index:\r\n",
        "    k = np.nonzero(data_frames[stock].index==date)[0][0] # find the row where dividends have been paid.\r\n",
        "    close_before = close[k-1]\r\n",
        "    pct_close_div = pct_close[k]\r\n",
        "    pct_adj_div = pct_adj_close[k]\r\n",
        "    dividend = close_before * ( pct_adj_div - pct_close_div)\r\n",
        "    dividends.append(dividend)\r\n",
        "  dividends = pd.Series(dividends, index=delta.index)\r\n",
        "  yearly_dividends = []\r\n",
        "  for y in range(2016,2021): # Find dividens growth rate in the last 5 years.\r\n",
        "    dividend_year = dividends[dividends.index.year == y] #filter only one year\r\n",
        "    yearly_dividends.append(dividend_year.sum()) # find total dividens per year\r\n",
        "  yearly_dividends = pd.Series(yearly_dividends, index=np.arange(2016,2021))\r\n",
        "  print(f\"Yearly dividends of {stock} :\")\r\n",
        "  print(yearly_dividends)\r\n",
        "  dividend_growth = yearly_dividends.pct_change(1).dropna() \r\n",
        "  g = dividend_growth.median()\r\n",
        "  print(f\"Dividends growth rate of {stock} is {g*100} %.\")\r\n",
        "  r = 0.1 # Assume that we can find the risk-free security at 10%\r\n",
        "  if g< r:\r\n",
        "    S_val = yearly_dividends[2020]/(r - g) # D1/(r - g)\r\n",
        "    print(f\"    The current {stock} price is {adj_close.iloc[-1]}.\") # \r\n",
        "    print(f\"    From the Discounted Cash Flow model, {stock} price is {S_val}.\")\r\n",
        "  else:\r\n",
        "    print(f\"    The current {stock} price is {adj_close.iloc[-1]}.\") # \r\n",
        "    print(f\"    From the Discounted Cash Flow model, {stock} price is infinity.\")\r\n"
      ],
      "execution_count": 17,
      "outputs": [
        {
          "output_type": "stream",
          "text": [
            "Yearly dividends of ADVANC :\n",
            "2016    12.271264\n",
            "2017     7.794728\n",
            "2018     7.271880\n",
            "2019     7.133484\n",
            "2020     6.779301\n",
            "dtype: float64\n",
            "Dividends growth rate of ADVANC is -5.836396772718261 %.\n",
            "    The current ADVANC price is 176.0.\n",
            "    From the Discounted Cash Flow model, ADVANC price is 42.808356107563114.\n",
            "Yearly dividends of KBANK :\n",
            "2016    3.905570\n",
            "2017    4.060947\n",
            "2018    4.144288\n",
            "2019    4.030586\n",
            "2020    4.594241\n",
            "dtype: float64\n",
            "Dividends growth rate of KBANK is 3.015296811474988 %.\n",
            "    The current KBANK price is 113.0.\n",
            "    From the Discounted Cash Flow model, KBANK price is 65.77574900024526.\n",
            "Yearly dividends of PTT :\n",
            "2016    1.006189\n",
            "2017    1.812689\n",
            "2018    1.971280\n",
            "2019    2.091720\n",
            "2020    1.270014\n",
            "dtype: float64\n",
            "Dividends growth rate of PTT is 7.4293239795086174 %.\n",
            "    The current PTT price is 42.5.\n",
            "    From the Discounted Cash Flow model, PTT price is 49.403885044484056.\n",
            "Yearly dividends of BDMS :\n",
            "2016    0.359770\n",
            "2017    0.319788\n",
            "2018    0.358172\n",
            "2019    0.444555\n",
            "2020    0.294469\n",
            "dtype: float64\n",
            "Dividends growth rate of BDMS is 0.44494538766600145 %.\n",
            "    The current BDMS price is 20.799999237060547.\n",
            "    From the Discounted Cash Flow model, BDMS price is 3.0818167792171978.\n",
            "Yearly dividends of BEM :\n",
            "2016    0.119098\n",
            "2017    0.121338\n",
            "2018    0.131274\n",
            "2019    0.150796\n",
            "2020    0.180872\n",
            "dtype: float64\n",
            "Dividends growth rate of BEM is 11.530211937987023 %.\n",
            "    The current BEM price is 8.300000190734863.\n",
            "    From the Discounted Cash Flow model, BEM price is infinity.\n"
          ],
          "name": "stdout"
        }
      ]
    }
  ]
}