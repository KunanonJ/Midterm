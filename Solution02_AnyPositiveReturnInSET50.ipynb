{
 "cells": [
  {
   "cell_type": "markdown",
   "metadata": {
    "id": "U1Q30pstMUex"
   },
   "source": [
    "# Assignment 2\n",
    "\n",
    "\n",
    "---\n",
    "\n",
    "This assignment is due on Feb 15th, 2020. The goal of this assignment is to use statistics to answer the important question that any technical trading strategy can yield a better return that a simple \"Buy-and-Hold\" strategy. Next, \n"
   ]
  },
  {
   "cell_type": "markdown",
   "metadata": {
    "id": "x60q9b_6NXKE"
   },
   "source": [
    "There are four technical strategies implemented in this assignement, namely, buy-and-hold, moving average crossing, Bollinger band and relative signal strength indicator. \n",
    "\n",
    "\n",
    "1.   In Buy-and-hold strategy, a trader simply buys on the first trading day and keep holding the shares. \n",
    "2.   In the moving average crossing, a trader uses 10 and 25 historical averages to create the buy and sell signals. A trader will buy if 10-days moving average is more than 25-day moving average, and sell if 10-days moving average is less than or equal to 25-day moving average\n",
    "3. In Bollinger band, a trader will compute 10-day moving mean and standard deviation. If the close price is higher than the mean + standard divation, a trader will buy. Howevwer, if the close price is lower than the mean - standard deviation, a trader will sell.\n",
    "4. the relative strength indicator (RSI) measures the amount of buy and sell volumes to find out whether there are the over-bought or over-sold in the market. A trader will sell a stock if the RSI is more than 70 and sell a stock if RSI is less than 40. \n",
    "The Python code for each strategies is given below.\n"
   ]
  },
  {
   "cell_type": "code",
   "execution_count": 1,
   "metadata": {
    "id": "9gJz2_woSETy"
   },
   "outputs": [],
   "source": [
    "import csv \n",
    "from pandas_datareader import data\n",
    "import matplotlib.pyplot as plt\n",
    "import pandas as pd\n",
    "import numpy as np"
   ]
  },
  {
   "cell_type": "code",
   "execution_count": 2,
   "metadata": {
    "id": "8YvDSOhcMKNj"
   },
   "outputs": [],
   "source": [
    "def buyAndHold(data_frame, is_plot=False):\n",
    "  \"\"\"\n",
    "  Buy and Hold strategy:\n",
    "  Inputs: \n",
    "          data_frame: pandas dataframe of the stock prices. It must have the \"Adj Close\" prices\n",
    "          is_plot: If true, this code will plot the Adj close price and show the buy and sell points.\n",
    "  output:\n",
    "          signal indicator: the series of indicators 1 to take the position, 0 for keep previous status and -1 to clear the position.\n",
    "\n",
    "  \"\"\"\n",
    "\n",
    "  close = data_frame['Adj Close']\n",
    "  status = 0\n",
    "  signal = []\n",
    "  for k in range(close.shape[0]):\n",
    "    if k == 0:\n",
    "      signal.append(1)\n",
    "    else:\n",
    "      signal.append(0)\n",
    "  signal = pd.Series(data=signal, index=data_frame.index)\n",
    "  buy_sig = close[signal == 1]\n",
    "  sell_sig = close[signal == -1]\n",
    "  if is_plot:\n",
    "    plt.figure(figsize=(15,10))\n",
    "    plt.plot(close)    \n",
    "    plt.plot(buy_sig, color=\"red\", marker=\"^\",linestyle=\"\")   \n",
    "    plt.plot(sell_sig, color=\"black\", marker=\"v\",linestyle=\"\")  \n",
    "    plt.legend([\"Adj Close\",\"Buy\", \"Sell\"])\n",
    "    plt.title(\"Buy and Hold\")\n",
    "    plt.grid()\n",
    "  return signal\n"
   ]
  },
  {
   "cell_type": "code",
   "execution_count": 3,
   "metadata": {
    "id": "lbwKqStGQoJH"
   },
   "outputs": [],
   "source": [
    "def movingavg(data_frame, is_plot=False):\n",
    "  \"\"\"\n",
    "  Moving Average crossing strategy:\n",
    "  Inputs: \n",
    "          data_frame: pandas dataframe of the stock prices. It must have the \"Adj Close\" prices\n",
    "          is_plot: If true, this code will plot the Adj close price and show the buy and sell points.\n",
    "  output:\n",
    "          signal indicator: the series of indicators 1 to take the position, 0 for keep previous status and -1 to clear the position.\n",
    "\n",
    "  \"\"\"\n",
    "  long_win = 25\n",
    "  short_win = 10\n",
    "  close = data_frame['Adj Close'] \n",
    "  mu_long = close.rolling(long_win).mean()\n",
    "  mu_short = close.rolling(short_win).mean()\n",
    "  signal = []\n",
    "  status = 0\n",
    "  for k in range(close.shape[0]):\n",
    "    if ( mu_short[k] > mu_long[k]) and (status ==0):\n",
    "      signal.append(1)\n",
    "      status = 1\n",
    "    elif (mu_short[k] < mu_long[k]) and (status ==1):\n",
    "      signal.append(-1)\n",
    "      status = 0\n",
    "    else:\n",
    "      signal.append(0)\n",
    "\n",
    "  signal = pd.Series(data=signal, index=data_frame.index)\n",
    "  buy_sig = close[signal == 1]\n",
    "  sell_sig = close[signal == -1]\n",
    "  if is_plot:\n",
    "    plt.figure(figsize=(15,10))\n",
    "    plt.plot(close)    \n",
    "    plt.plot(mu_long)\n",
    "    plt.plot(mu_short)\n",
    "    plt.plot(buy_sig, color=\"red\", marker=\"^\",linestyle=\"\")   \n",
    "    plt.plot(sell_sig, color=\"black\", marker=\"v\",linestyle=\"\")  \n",
    "    plt.legend([\"Adj Close\",f\"MA({long_win})\", f\"MA({short_win})\", \"Buy\", \"Sell\"])\n",
    "    plt.title(\"Moving Average Crossing\")\n",
    "    plt.grid()\n",
    "  return signal\n"
   ]
  },
  {
   "cell_type": "code",
   "execution_count": 4,
   "metadata": {
    "id": "IxRIGQWZQyrM"
   },
   "outputs": [],
   "source": [
    "def bollinger(data_frame, is_plot=False):\n",
    "  \"\"\"\n",
    "  Bollinger Band strategy:\n",
    "  Inputs: \n",
    "          data_frame: pandas dataframe of the stock prices. It must have the \"Adj Close\" prices\n",
    "          is_plot: If true, this code will plot the Adj close price and show the buy and sell points.\n",
    "  output:\n",
    "          signal indicator: the series of indicators 1 to take the position, 0 for keep previous status and -1 to clear the position.\n",
    "\n",
    "  \"\"\"\n",
    "  close = data_frame['Adj Close']\n",
    "  win = 10 \n",
    "  ma = close.rolling(win).mean()\n",
    "  std = close.rolling(win).std()\n",
    "  up = ma + std\n",
    "  low = ma - std  \n",
    "  status = 0\n",
    "  signal = []\n",
    "  for k in range(close.shape[0]):\n",
    "    closek = close[k]\n",
    "    if (closek >  up[k]) and (status == 0): # buy\n",
    "      signal.append(1)\n",
    "      status = 1\n",
    "    elif (closek < low[k]) and (status == 1): # sell\n",
    "      signal.append(-1)\n",
    "      status = 0\n",
    "    else:\n",
    "      signal.append(0)\n",
    "\n",
    "  signal = pd.Series(data=signal, index=data_frame.index)\n",
    "  buy_sig = close[signal == 1]\n",
    "  sell_sig = close[signal == -1]\n",
    "  if is_plot:\n",
    "    plt.figure(figsize=(15,10))\n",
    "    plt.plot(close)\n",
    "    plt.plot(up)\n",
    "    plt.plot(low) \n",
    "    plt.plot(buy_sig, color=\"red\", marker=\"^\",linestyle=\"\")   \n",
    "    plt.plot(sell_sig, color=\"black\", marker=\"v\",linestyle=\"\")  \n",
    "    plt.legend([\"Adj Close\",\"High\", \"Low\", \"Buy\", \"Sell\"])\n",
    "    plt.title(\"Bollinger Bands\")\n",
    "    plt.grid()\n",
    "  return signal\n"
   ]
  },
  {
   "cell_type": "code",
   "execution_count": 5,
   "metadata": {
    "id": "ryMtqUOoQ6e_"
   },
   "outputs": [],
   "source": [
    "def rsi(data_frame, is_plot=False):\n",
    "  \"\"\"\n",
    "  Relative Signal Strength:\n",
    "  Inputs: \n",
    "          data_frame: pandas dataframe of the stock prices. It must have the \"Adj Close\" prices\n",
    "          is_plot: If true, this code will plot the Adj close price and show the buy and sell points.\n",
    "  output:\n",
    "          signal indicator: the series of indicators 1 to take the position, 0 for keep previous status and -1 to clear the position.\n",
    "\n",
    "  \"\"\"\n",
    "  window_length= 14\n",
    "  upv = 70\n",
    "  lowv= 40\n",
    "  close = data_frame['Adj Close']\n",
    "  delta = close.diff(1) \n",
    " \n",
    "  up, down = delta.copy(), delta.copy()\n",
    "  up[up < 0] = 0\n",
    "  down[down > 0] = 0\n",
    "  roll_up1 = up.ewm(span=window_length).mean()\n",
    "  roll_down1 = down.abs().ewm(span=window_length).mean()\n",
    "  # Calculate the RSI based on EWMA\n",
    "  RS1 = roll_up1 / roll_down1\n",
    "  RSI1 = 100.0 - (100.0 / (1.0 + RS1))\n",
    "  status = 0\n",
    "  signal = []\n",
    "  for k in range(close.shape[0]):\n",
    "    rsk = RSI1[k]\n",
    "    if (rsk < lowv) and (status == 0): # buy\n",
    "      signal.append(1)\n",
    "      status = 1\n",
    "    elif (rsk > upv) and (status == 1): # sell\n",
    "      signal.append(-1)\n",
    "      status = 0\n",
    "    else:\n",
    "      signal.append(0)\n",
    "\n",
    "  signal = pd.Series(data=signal, index=data_frame.index)\n",
    "  buy_sig = close[signal == 1]\n",
    "  sell_sig = close[signal == -1]\n",
    "\n",
    "  if is_plot:  \n",
    "    plt.figure(figsize=(15,10))\n",
    "    plt.subplot(2,1,1)\n",
    "    plt.plot(close)\n",
    "    plt.plot(buy_sig, color=\"red\", marker=\"^\",linestyle=\"\")   \n",
    "    plt.plot(sell_sig, color=\"black\", marker=\"v\",linestyle=\"\")  \n",
    "    plt.legend([\"Adj Close\",\"Buy\", \"Sell\"])\n",
    "    plt.grid()\n",
    "    plt.title(\"RSI\")\n",
    "    plt.subplot(2,1,2)\n",
    "    plt.plot(RSI1)\n",
    "    plt.plot(RSI1.index, upv*np.ones((close.shape[0],)),\"b--\")\n",
    "    plt.plot(RSI1.index, lowv*np.ones((close.shape[0],)),\"b--\")\n",
    "    plt.legend(['RSI', \"SELL Band\", \"BUY Band\"])\n",
    "    plt.grid()\n",
    "    plt.title(\"RSI Value\")\n",
    "  return signal\n"
   ]
  },
  {
   "cell_type": "markdown",
   "metadata": {
    "id": "ZrV9FP81RF1l"
   },
   "source": [
    "I have created a code to use the idicator to trade the stock."
   ]
  },
  {
   "cell_type": "code",
   "execution_count": 6,
   "metadata": {
    "id": "XL0qmYrnREhc"
   },
   "outputs": [],
   "source": [
    "def techicalTrading(stock_info, # dataframe of a stock\n",
    "                    indicator, # trade indicator\n",
    "                    initial_money=1000000 #Starting money\n",
    "                    ):\n",
    "  \"\"\"\n",
    "  Trader simulation:\n",
    "  Inputs: \n",
    "        stock_info: stock price data frames\n",
    "        indicator: time-series indicator: 1 for Buy, -1 for sell, 0 for nothing\n",
    "        initinal_money: initial money in the port. default 1M \n",
    "  output:\n",
    "        wealth: time-series money in the port\n",
    "  \"\"\"\n",
    "\n",
    "  num_dates, _ = stock_info.shape\n",
    "  status = \"NONE\" # Start with no poistion\n",
    "  stock= 0\n",
    "  money = initial_money\n",
    "  wealth = []\n",
    "  close = stock_info['Adj Close']\n",
    "  for k in range(num_dates):\n",
    "    indicatork = indicator[k]\n",
    "    if not np.isnan(indicatork): # if it is not NA\n",
    "      if (indicatork > 0) and ( status == \"NONE\"):\n",
    "        stock = money/close.values[k]\n",
    "        #print(f\"Buy at {close.values[k]}\")\n",
    "        money = 0\n",
    "        status = \"HOLD\"\n",
    "      elif (indicatork < 0) and ( status == \"HOLD\"):\n",
    "        money = stock * close.values[k]\n",
    "        stock =  0\n",
    "        #print(f\"Sell at {close.values[k]}\")\n",
    "        status = \"NONE\"\n",
    "    cur_wealth = money + stock * close.values[k]\n",
    "    wealth.append(cur_wealth)\n",
    "  wealth = pd.Series(data=wealth, index=stock_info.index)  \n",
    "  return wealth \n",
    "\n"
   ]
  },
  {
   "cell_type": "code",
   "execution_count": 7,
   "metadata": {
    "colab": {
     "base_uri": "https://localhost:8080/",
     "height": 624
    },
    "id": "PaRl83KuTP9V",
    "outputId": "1113d0fd-bbd8-4884-e94c-4596b898b48e"
   },
   "outputs": [
    {
     "data": {
      "text/plain": [
       "<Figure size 1080x1080 with 0 Axes>"
      ]
     },
     "metadata": {
      "tags": []
     },
     "output_type": "display_data"
    },
    {
     "data": {
      "image/png": "[encoded data removed]",
      "text/plain": [
       "<Figure size 1080x720 with 1 Axes>"
      ]
     },
     "metadata": {
      "needs_background": "light",
      "tags": []
     },
     "output_type": "display_data"
    }
   ],
   "source": [
    "# Example\n",
    "df = data.DataReader(\"DELTA.BK\", \"yahoo\", \"2020-01-01\", \"2020-12-31\") \n",
    "plt.figure(figsize=(15,15))\n",
    "indicator = bollinger(df, is_plot=True)"
   ]
  },
  {
   "cell_type": "code",
   "execution_count": 8,
   "metadata": {
    "colab": {
     "base_uri": "https://localhost:8080/",
     "height": 927
    },
    "id": "9bsJHb52TL-i",
    "outputId": "bb2b693f-795e-4881-8e0f-4f7d68d60679"
   },
   "outputs": [
    {
     "name": "stdout",
     "output_type": "stream",
     "text": [
      "Final Wealth is 7,524,137.139388054\n",
      "Total again in 2 years in 652.41 %\n"
     ]
    },
    {
     "data": {
      "image/png": "[encoded data removed]",
      "text/plain": [
       "<Figure size 1080x1080 with 1 Axes>"
      ]
     },
     "metadata": {
      "needs_background": "light",
      "tags": []
     },
     "output_type": "display_data"
    }
   ],
   "source": [
    "# Example\n",
    "plt.figure(figsize=(15,15))\n",
    "wealth = techicalTrading(df, indicator, initial_money=1000000)\n",
    "plt.plot(wealth)\n",
    "plt.xlabel(\"Date\")\n",
    "plt.ylabel(\"Wealth\")\n",
    "plt.title(\"Buy and Hold\")\n",
    "plt.grid()\n",
    "print(f\"Final Wealth is {wealth[-1]:,}\")\n",
    "print(f\"Total again in 2 years in {(wealth[-1]/wealth[0]-1)*100:3.2f} %\")"
   ]
  },
  {
   "cell_type": "markdown",
   "metadata": {
    "id": "ydxrouaPUn5w"
   },
   "source": [
    "Question 1: Use dataset of SET50 list in 2020 (https://www.set.or.th/th/market/files/constituents/SET50_100_H2_2020_revised.pdf) Compute the return in 2020 from 2020-01-01 to 2020-12-31. Find out\n",
    "1. Average annual return _________ and annual STD ______________ for buy and hold\n",
    "2. Average annual return _________ and annual STD ______________ for moving average crossing\n",
    "3. Average annual return _________ and annual STD ______________ for Bollinger Band\n",
    "4. Average annual return _________ and annual STD ______________ for RSI"
   ]
  },
  {
   "cell_type": "code",
   "execution_count": 15,
   "metadata": {
    "colab": {
     "base_uri": "https://localhost:8080/"
    },
    "id": "KvvC_TfLUnVU",
    "outputId": "5bc88195-6c25-494c-9ac3-3d4bde36b0d8"
   },
   "outputs": [
    {
     "name": "stdout",
     "output_type": "stream",
     "text": [
      "Working with ADVANC\n",
      "Working with AOT\n",
      "Working with AWC\n",
      "Working with BBL\n",
      "Working with BDMS\n",
      "Working with BEM\n",
      "Working with BGRIM\n",
      "Working with BH\n",
      "Working with BJC\n",
      "Working with BPP\n",
      "Working with BTS\n",
      "Working with CBG\n",
      "Working with CPALL\n",
      "Working with CPF\n",
      "Working with CPN\n",
      "Working with CRC\n",
      "Working with DTAC\n",
      "Working with EA\n",
      "Working with EGCO\n",
      "Working with GLOBAL\n",
      "Working with GPSC\n",
      "Working with GULF\n",
      "Working with HMPRO\n",
      "Working with INTUCH\n",
      "Working with IRPC\n",
      "Working with IVL\n",
      "Working with KBANK\n",
      "Working with KTB\n",
      "Working with KTC\n",
      "Working with LH\n",
      "Working with MINT\n",
      "Working with MTC\n",
      "Working with OSP\n",
      "Working with PTT\n",
      "Working with PTTEP\n",
      "Working with PTTGC\n",
      "Working with RATCH\n",
      "Working with SAWAD\n",
      "Working with SCB\n",
      "Working with SCC\n",
      "Working with SCGP\n",
      "Working with TISCO\n",
      "Working with TMB\n",
      "Working with TOA\n",
      "Working with TOP\n",
      "Working with TRUE\n",
      "Working with TTW\n",
      "Working with TU\n",
      "Working with VGI\n",
      "Working with WHA\n"
     ]
    }
   ],
   "source": [
    "# Add your code here\n",
    "import csv\n",
    "import pandas as pd \n",
    "import matplotlib.pyplot as plt\n",
    "import numpy as np\n",
    "import pandas_datareader as reader\n",
    "set50_file = \"/content/drive/MyDrive/set50.txt\"\n",
    "data_frames = dict()\n",
    "stocks = []\n",
    "wealths = {buyAndHold:[], movingavg: [], bollinger: [], rsi: []}\n",
    "methods = [buyAndHold, movingavg, bollinger, rsi]\n",
    "with open(set50_file) as csv_file:\n",
    "   csv_reader = csv.reader(csv_file, delimiter=',')\n",
    "   for row in csv_reader:     \n",
    "     stock = row[0]\n",
    "     print(f\"Working with {stock}\")\n",
    "     data_frames[stock] = reader.DataReader(f\"{stock}.BK\", \"yahoo\",\"2020-01-01\",\"2020-12-31\") \n",
    "     for method in methods:     \n",
    "       indicator = method(data_frames[stock] , is_plot=False)\n",
    "       wealth = techicalTrading(data_frames[stock], indicator, initial_money=1000000)\n",
    "       wealths[method].append(wealth[-1]) #last wealth "
   ]
  },
  {
   "cell_type": "code",
   "execution_count": 20,
   "metadata": {
    "colab": {
     "base_uri": "https://localhost:8080/"
    },
    "id": "Z-hI1Yt2ZnUW",
    "outputId": "92341e82-8a59-42cb-978d-e5220823f06b"
   },
   "outputs": [
    {
     "name": "stdout",
     "output_type": "stream",
     "text": [
      "<function buyAndHold at 0x7fdf7ab5ed90> : -0.12210978428954794 and 0.19916826810044988\n",
      "<function movingavg at 0x7fdf7ab4c8c8> : 0.10309998251178375 and 0.2851840763899233\n",
      "<function bollinger at 0x7fdf7c552d90> : 0.15167999381867334 and 0.31128699126639864\n",
      "<function rsi at 0x7fdf7ab5eea0> : -0.16509239772300277 and 0.18396417544010213\n"
     ]
    }
   ],
   "source": [
    "init_wealth = 1000000\n",
    "retn = dict()\n",
    "for method in methods:\n",
    "  wealth = np.array(wealths[method])\n",
    "  ret = wealth / init_wealth -1.0\n",
    "  print(method, f\": {np.mean(ret)} and {np.std(ret)}\")\n",
    "  retn[method] = ret "
   ]
  },
  {
   "cell_type": "markdown",
   "metadata": {
    "id": "HMdhECkgV2Hi"
   },
   "source": [
    "Question 2: Compute 95% confidence interval of the average annual return for each strategies.\n",
    "1. Specify the type of statistics used in computing the confidence interval  ___________ (z-statistics or t-statistics)\n",
    "2. 95% Confidence interval for Buy and hold is _____________________________.\n",
    "3. 95% Confidence interval for moving average crossing is _____________________________.\n",
    "4. 95% Confidence interval for Bollinger Band is _____________________________.\n",
    "5. 95% Confidence interval for RSI is _____________________________.\n"
   ]
  },
  {
   "cell_type": "code",
   "execution_count": 22,
   "metadata": {
    "colab": {
     "base_uri": "https://localhost:8080/"
    },
    "id": "Q8ikqYDYUmws",
    "outputId": "c61b48af-437c-4f1c-a9b4-ba3171528fb8"
   },
   "outputs": [
    {
     "name": "stdout",
     "output_type": "stream",
     "text": [
      "<function buyAndHold at 0x7fdf7ab5ed90>  95%-Confidence: -0.13019592649445044 and -0.11402364208464544\n",
      "<function movingavg at 0x7fdf7ab4c8c8>  95%-Confidence: 0.09152163713449878 and 0.11467832788906872\n",
      "<function bollinger at 0x7fdf7c552d90>  95%-Confidence: 0.13904188182461388 and 0.1643181058127328\n",
      "<function rsi at 0x7fdf7ab5eea0>  95%-Confidence: -0.172561260596611 and -0.15762353484939454\n"
     ]
    }
   ],
   "source": [
    "# Add your code here\n",
    "import scipy.stats as st \n",
    "for method in methods:\n",
    "  ret = retn[method]\n",
    "  lower, upper = st.t.interval(0.95, len(ret)-1, loc=np.mean(ret), scale=ret.std(ddof=1)/len(ret))\n",
    "  print(method, f\" 95%-Confidence: {lower} and {upper}\")\n"
   ]
  },
  {
   "cell_type": "markdown",
   "metadata": {
    "id": "FcRW3qZVXEVd"
   },
   "source": [
    "Question 3: Use the t-test to make the conclusion whether any of these strategies yield positive return.\n",
    "1. Buy and Hold has t-score: _________________ and p-value ____________. Can it make profit? ___________ (yes or no). \n",
    "2. Moving average crossing has t-score: _________________ and p-value ____________. Can it make profit? ___________ (yes or no). \n",
    "3. Bollinger Band has t-score: _________________ and p-value ____________. Can it make profit? ___________ (yes or no). \n",
    "4. RSI has t-score: _________________ and p-value ____________. Can it make profit? ___________ (yes or no). "
   ]
  },
  {
   "cell_type": "code",
   "execution_count": 28,
   "metadata": {
    "colab": {
     "base_uri": "https://localhost:8080/"
    },
    "id": "Y7zeY53lgerc",
    "outputId": "e539033d-7118-41fa-aea6-76e9e14c6f14"
   },
   "outputs": [
    {
     "name": "stdout",
     "output_type": "stream",
     "text": [
      "<function buyAndHold at 0x7fdf7ab5ed90>  t-score: -4.2916901280465805, p-value: 0.9999583403865957, No. It cannot make a profit\n",
      "<function movingavg at 0x7fdf7ab4c8c8>  t-score: 2.530645773488869, p-value: 0.0073235828084758665, Yes. It can make a profit\n",
      "<function bollinger at 0x7fdf7c552d90>  t-score: 3.410871596050931, p-value: 0.0006527631672147644, Yes. It can make a profit\n",
      "<function rsi at 0x7fdf7ab5eea0>  t-score: -6.281912123903127, p-value: 0.9999999570385784, No. It cannot make a profit\n"
     ]
    }
   ],
   "source": [
    "# Add your code here\n",
    "from scipy.stats import ttest_1samp\n",
    "for method in methods:\n",
    "  ret = retn[method]\n",
    "  t_score, p_value = ttest_1samp(ret, popmean=0)\n",
    "  if (p_value/2 < 0.05) and (t_score > 0):\n",
    "    print(method, f\" t-score: {t_score}, p-value: {p_value/2}, Yes. It can make a profit\")\n",
    "  elif (t_score < 0):\n",
    "    print(method, f\" t-score: {t_score}, p-value: {1- (p_value/2)}, No. It cannot make a profit\")  \n",
    "  else:\n",
    "    print(method, f\" t-score: {t_score}, p-value: {p_value/2}, No. It cannot make a profit\")  "
   ]
  },
  {
   "cell_type": "markdown",
   "metadata": {
    "id": "fc-t2i40giQF"
   },
   "source": [
    "Question 4: Next, we compare againts Buy-and-Hold startegy using t-score. Here,\n",
    "\n",
    "H0 : A strategy is the same or worst than buy-and-hold\n",
    "\n",
    "H1: A strategy is better than buy and hold:\n",
    "1. Moving Average vs Buy and Hold: t-score_______ p-value ______. Is moving average better than buy and hold? _____ (yes or no)\n",
    "2. Bolling Band vs Buy and Hold: t-score_______ p-value ______. Is moving average better than buy and hold? _____ (yes or no)\n",
    "3. RSI vs Buy and Hold: t-score_______ p-value ______. Is moving average better than buy and hold? _____ (yes or no)\n"
   ]
  },
  {
   "cell_type": "code",
   "execution_count": 33,
   "metadata": {
    "colab": {
     "base_uri": "https://localhost:8080/"
    },
    "id": "8URJb1ZMgh2U",
    "outputId": "9d8b27bb-34b3-4fe0-cdbf-8ff3517dbe6c"
   },
   "outputs": [
    {
     "name": "stdout",
     "output_type": "stream",
     "text": [
      "<function movingavg at 0x7fdf7ab4c8c8>  vs BuyAndHold: t-score: 4.532066180807941, p-value: 8.257772186494931e-06. Yes, it is better than BuyAndHold\n",
      "<function bollinger at 0x7fdf7c552d90>  vs BuyAndHold: t-score: 5.1861066922119425, p-value: 5.784402915125568e-07. Yes, it is better than BuyAndHold\n",
      "<function rsi at 0x7fdf7ab5eea0>  vs BuyAndHold: t-score: -1.1097246516033978, p-value: 0.8650833255508258. No, it is not better than BuyAndHold\n"
     ]
    }
   ],
   "source": [
    "# Add your code here\n",
    "from scipy.stats import ttest_ind\n",
    "ret0 = retn[buyAndHold]\n",
    "for method in methods[1:]:\n",
    "  ret1 = retn[method]\n",
    "  t_score, p_value = ttest_ind(ret1, ret0)\n",
    "  if t_score > 0:\n",
    "    if p_value/2.0 < 0.05:\n",
    "      print( method, f\" vs BuyAndHold: t-score: {t_score}, p-value: {p_value/2.0}. Yes, it is better than BuyAndHold\")\n",
    "    else:\n",
    "      print( method, f\" vs BuyAndHold: t-score: {t_score}, p-value: {p_value/2.0}. No, it is not better than BuyAndHold\")\n",
    "  else:\n",
    "    print( method, f\" vs BuyAndHold: t-score: {t_score}, p-value: {1.0 - p_value/2.0}. No, it is not better than BuyAndHold\")\n",
    "\n",
    "\n"
   ]
  }
 ],
 "metadata": {
  "colab": {
   "name": "Solution03_AnyPositiveReturnInSet48.ipynb",
   "provenance": [],
   "toc_visible": true
  },
  "kernelspec": {
   "display_name": "Python 3",
   "language": "python",
   "name": "python3"
  },
  "language_info": {
   "codemirror_mode": {
    "name": "ipython",
    "version": 3
   },
   "file_extension": ".py",
   "mimetype": "text/x-python",
   "name": "python",
   "nbconvert_exporter": "python",
   "pygments_lexer": "ipython3",
   "version": "3.7.6"
  }
 },
 "nbformat": 4,
 "nbformat_minor": 1
}
